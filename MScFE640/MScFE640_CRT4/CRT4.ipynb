{
 "cells": [
  {
   "cell_type": "markdown",
   "metadata": {},
   "source": [
    "# Collaborative Review Task 4\n",
    "In this module, you are required to complete a collaborative review task, which is designed to test your ability to apply and analyze the knowledge you have learned during the week\n",
    "\n",
    "## Question:\n",
    "1. Download 1-2 years of SPY. Find two other ETF that track it.\n",
    "2. Compute the return, active returns, and average active return.\n",
    "3. Compute the tracking error and mean-adjusted tracking error.\n",
    "4. Which ETF tracks the S&P500 better?\n",
    "5. Download the Select SPDR funds (tickers = XLB, XLE, XLF, XLI, XLK, XLP, XLRE, XLU, XLV, XLY) over the same time period as you did or SPY.\n",
    "6. Compute the returns.\n",
    "7. Write a function that computes active return internally and uses that to compute the mean-adjusted tracking error.\n",
    "8. Determine which single sector fund best tracks the S&P500."
   ]
  },
  {
   "cell_type": "code",
   "execution_count": 1,
   "metadata": {},
   "outputs": [],
   "source": [
    "import numpy as np\n",
    "import pandas as pd\n",
    "\n",
    "# We only use pandas here to load data, other than that, every calculation is\n",
    "# either written all by the author (Hai Ninh Hoang), or using numpy library"
   ]
  },
  {
   "cell_type": "markdown",
   "metadata": {},
   "source": [
    "## Download 1-2 years of SPY. Find two other ETF that track it."
   ]
  },
  {
   "cell_type": "code",
   "execution_count": 2,
   "metadata": {},
   "outputs": [],
   "source": [
    "# We will get the SPY, VOO, IVV\n",
    "# After that, we use pandas to load the data from CSV files in Data folder\n",
    "spy = pd.read_csv(\"Data/SPY.csv\",\n",
    "                    delimiter=',')\n",
    "spy['Date'] = pd.to_datetime(spy['Date'])\n",
    "spy.set_index('Date', inplace=True)\n",
    "\n",
    "ivv = pd.read_csv(\"Data/IVV.csv\",\n",
    "                    delimiter=',')\n",
    "ivv['Date'] = pd.to_datetime(ivv['Date'])\n",
    "ivv.set_index('Date', inplace=True)\n",
    "\n",
    "voo = pd.read_csv(\"Data/VOO.csv\",\n",
    "                    delimiter=',')\n",
    "voo['Date'] = pd.to_datetime(voo['Date'])\n",
    "voo.set_index('Date', inplace=True)\n",
    "\n",
    "# Convert the data from Pandas DataFrame to Numpy\n",
    "spy = np.array(spy['Adj Close'])\n",
    "ivv = np.array(ivv['Adj Close'])\n",
    "voo = np.array(voo['Adj Close'])"
   ]
  },
  {
   "cell_type": "markdown",
   "metadata": {},
   "source": [
    "2. Compute the return, active returns, and average active return.\n",
    "3. Compute the tracking error and mean-adjusted tracking error."
   ]
  },
  {
   "cell_type": "code",
   "execution_count": 3,
   "metadata": {},
   "outputs": [],
   "source": [
    "# Write function to compute return, active return\n",
    "# Note that we will use log return here\n",
    "# The Normal_Return function is only for reference\n",
    "\n",
    "def nans(shape, dtype=float):\n",
    "    # To generate nans array\n",
    "    a = np.empty(shape, dtype)\n",
    "    a.fill(np.nan)\n",
    "    return a\n",
    "\n",
    "def shift(price_array, n):\n",
    "    # n is the number shift to the right\n",
    "    result = nans(len(price_array))\n",
    "    for i in range(n,len(price_array)):\n",
    "        result[i] = price_array[i-n]\n",
    "    return result\n",
    "\n",
    "def Normal_Return(P_f, P_i):\n",
    "    result = (P_f - P_i)/P_i\n",
    "    return result\n",
    "\n",
    "def Log_Return(P_f, P_i):\n",
    "    result = np.log(P_f/P_i)\n",
    "    return result\n",
    "\n",
    "# Tracking errors is the standard deviation of active return\n",
    "def Tracking_error(T, R_i, R_ave):\n",
    "    a = 1/(T-1)\n",
    "    b = np.sum((R_i - R_ave)**2)\n",
    "    result = (a*b)**(1/2)\n",
    "    return result\n",
    "\n",
    "def mean_adjusted_tracking_error(T, active_return):\n",
    "    a = 1/T\n",
    "    b = np.sum(active_return**2)\n",
    "    result = (a*b)**(1/2)\n",
    "    return result"
   ]
  },
  {
   "cell_type": "code",
   "execution_count": 4,
   "metadata": {},
   "outputs": [],
   "source": [
    "# Calculate log return\n",
    "spy_ret = Log_Return(spy,shift(spy,1))\n",
    "voo_ret = Log_Return(voo,shift(voo,1))\n",
    "ivv_ret = Log_Return(ivv,shift(ivv,1))\n",
    "\n",
    "# Calculate active return\n",
    "act_ret_voo = voo_ret - spy_ret\n",
    "act_ret_ivv = ivv_ret - spy_ret\n",
    "\n",
    "# Calculate average active return\n",
    "act_ret_voo_ave = np.average(act_ret_voo[~np.isnan(act_ret_voo)])\n",
    "act_ret_ivv_ave = np.average(act_ret_ivv[~np.isnan(act_ret_ivv)])\n",
    "\n",
    "# Compute the tracking error and mean_adjusted_tracking_error\n",
    "TE_voo = Tracking_error(len(voo), act_ret_voo[~np.isnan(act_ret_voo)], act_ret_voo_ave)\n",
    "TE_ivv = Tracking_error(len(ivv), act_ret_ivv[~np.isnan(act_ret_ivv)], act_ret_ivv_ave)\n",
    "\n",
    "MATE_voo = mean_adjusted_tracking_error(len(voo),act_ret_voo[~np.isnan(act_ret_voo)]) \n",
    "MATE_ivv = mean_adjusted_tracking_error(len(ivv),act_ret_ivv[~np.isnan(act_ret_ivv)])"
   ]
  },
  {
   "cell_type": "code",
   "execution_count": 5,
   "metadata": {},
   "outputs": [
    {
     "name": "stdout",
     "output_type": "stream",
     "text": [
      "Log Return: \n",
      "\n",
      "The first 10 Log Return for SPY is\n",
      "\n",
      "[        nan  0.02699151 -0.01715813 -0.00295933  0.01269683 -0.0218211\n",
      "  0.01273565  0.01064224  0.00786102 -0.02253802]\n",
      "\n",
      "\n",
      "The first 10 Log Return for VOO is\n",
      "\n",
      "[        nan  0.02715465 -0.0174804  -0.00280366  0.01431219 -0.02340465\n",
      "  0.01260623  0.01145905  0.00719833 -0.02225498]\n",
      "\n",
      "\n",
      "The first 10 Log Return for IVV is\n",
      "\n",
      "[        nan  0.02722138 -0.01768383 -0.00267194  0.01423207 -0.02348665\n",
      "  0.01291736  0.01154863  0.00694035 -0.02234284]\n",
      "\n",
      "\n"
     ]
    }
   ],
   "source": [
    "# Print head result for 2,3,4\n",
    "print(\"Log Return: \\n\")\n",
    "print(\"The first 10 Log Return for SPY is\\n\")\n",
    "print(spy_ret[:10])\n",
    "print(\"\\n\")\n",
    "print(\"The first 10 Log Return for VOO is\\n\")\n",
    "print(voo_ret[:10])\n",
    "print(\"\\n\")\n",
    "print(\"The first 10 Log Return for IVV is\\n\")\n",
    "print(ivv_ret[:10])\n",
    "print(\"\\n\")"
   ]
  },
  {
   "cell_type": "code",
   "execution_count": 6,
   "metadata": {},
   "outputs": [
    {
     "name": "stdout",
     "output_type": "stream",
     "text": [
      "Active Return: \n",
      "The first 10 Active Return for VOO is\n",
      "\n",
      "[        nan  0.00016314 -0.00032227  0.00015567  0.00161536 -0.00158355\n",
      " -0.00012942  0.00081681 -0.00066269  0.00028304]\n",
      "\n",
      "\n",
      "The first 10 Active Return for IVV is\n",
      "\n",
      "[        nan  0.00022987 -0.0005257   0.00028739  0.00153525 -0.00166556\n",
      "  0.00018171  0.00090639 -0.00092067  0.00019518]\n",
      "\n",
      "\n"
     ]
    }
   ],
   "source": [
    "print(\"Active Return: \")\n",
    "print(\"The first 10 Active Return for VOO is\\n\")\n",
    "print(act_ret_voo[:10])\n",
    "print(\"\\n\")\n",
    "print(\"The first 10 Active Return for IVV is\\n\")\n",
    "print(act_ret_ivv[:10])\n",
    "print(\"\\n\")"
   ]
  },
  {
   "cell_type": "code",
   "execution_count": 7,
   "metadata": {},
   "outputs": [
    {
     "name": "stdout",
     "output_type": "stream",
     "text": [
      "Average Active Return: \n",
      "\n",
      "\n",
      "The average Active Return of VOO is: 0.000006\n",
      "The average Active Return of IVV is: 0.000002\n",
      "\n",
      "\n"
     ]
    }
   ],
   "source": [
    "print(\"Average Active Return: \")\n",
    "print(\"\\n\")\n",
    "print(\"The average Active Return of VOO is: {:02f}\".format(act_ret_voo_ave))\n",
    "print(\"The average Active Return of IVV is: {:02f}\".format(act_ret_ivv_ave))\n",
    "print(\"\\n\")"
   ]
  },
  {
   "cell_type": "code",
   "execution_count": 8,
   "metadata": {},
   "outputs": [
    {
     "name": "stdout",
     "output_type": "stream",
     "text": [
      "Tracking Error: \n",
      "\n",
      "\n",
      "The Tracking Error of VOO is: 0.000825\n",
      "The Tracking Error of IVV is: 0.000825\n",
      "\n",
      "\n"
     ]
    }
   ],
   "source": [
    "print(\"Tracking Error: \")\n",
    "print(\"\\n\")\n",
    "print(\"The Tracking Error of VOO is: {:02f}\".format(TE_voo))\n",
    "print(\"The Tracking Error of IVV is: {:02f}\".format(TE_ivv))\n",
    "print(\"\\n\")"
   ]
  },
  {
   "cell_type": "code",
   "execution_count": 9,
   "metadata": {},
   "outputs": [
    {
     "name": "stdout",
     "output_type": "stream",
     "text": [
      "The Mean-adjusted Tracking Error: \n",
      "\n",
      "\n",
      "The Mean-adjusted Tracking Error of VOO is: 0.000825\n",
      "The Mean-adjusted Tracking Error of IVV is: 0.000824\n",
      "\n",
      "\n"
     ]
    }
   ],
   "source": [
    "print(\"The Mean-adjusted Tracking Error: \")\n",
    "print(\"\\n\")\n",
    "print(\"The Mean-adjusted Tracking Error of VOO is: {:02f}\".format(MATE_voo))\n",
    "print(\"The Mean-adjusted Tracking Error of IVV is: {:02f}\".format(MATE_ivv))\n",
    "print(\"\\n\")"
   ]
  },
  {
   "cell_type": "markdown",
   "metadata": {},
   "source": [
    "## Which ETF tracks the S&P500 better?\n",
    "As the lecture notes:\n",
    "\n",
    "- Active return is negative if we underperform a benchmark’s return.\n",
    "- Active return is positive if we outperform a benchmark’s return.\n",
    "- Active return is zero if we match a benchmark’s return.\n",
    "\n",
    "In this assignment, since the absolute Active Return of IVV and the absolute MATE (Mean-adjusted Tracking Error) of IVV is both smaller than VOO, we can firmly agree that IVV is a better tracker than VOO"
   ]
  },
  {
   "cell_type": "markdown",
   "metadata": {},
   "source": [
    "## Download the Select SPDR funds (tickers = XLB, XLE, XLF, XLI, XLK, XLP, XLRE, XLU, XLV, XLY) over the same time period as you did or SPY."
   ]
  },
  {
   "cell_type": "code",
   "execution_count": 10,
   "metadata": {},
   "outputs": [],
   "source": [
    "# Download SPDR funds from Yahoo!Finance and put csv file in the Data folder\n",
    "# Load data SPDR\n",
    "XLB = pd.read_csv(\"Data/XLB.csv\",\n",
    "                    delimiter=',')\n",
    "XLB['Date'] = pd.to_datetime(XLB['Date'])\n",
    "XLB.set_index('Date', inplace=True)\n",
    "\n",
    "XLE = pd.read_csv(\"Data/XLE.csv\",\n",
    "                    delimiter=',')\n",
    "XLE['Date'] = pd.to_datetime(XLE['Date'])\n",
    "XLE.set_index('Date', inplace=True)\n",
    "\n",
    "XLF = pd.read_csv(\"Data/XLF.csv\",\n",
    "                    delimiter=',')\n",
    "XLF['Date'] = pd.to_datetime(XLF['Date'])\n",
    "XLF.set_index('Date', inplace=True)\n",
    "\n",
    "XLP = pd.read_csv(\"Data/XLP.csv\",\n",
    "                    delimiter=',')\n",
    "XLP['Date'] = pd.to_datetime(XLP['Date'])\n",
    "XLP.set_index('Date', inplace=True)\n",
    "\n",
    "XLK = pd.read_csv(\"Data/XLK.csv\",\n",
    "                    delimiter=',')\n",
    "XLK['Date'] = pd.to_datetime(XLK['Date'])\n",
    "XLK.set_index('Date', inplace=True)\n",
    "\n",
    "XLRE = pd.read_csv(\"Data/XLRE.csv\",\n",
    "                    delimiter=',')\n",
    "XLRE['Date'] = pd.to_datetime(XLRE['Date'])\n",
    "XLRE.set_index('Date', inplace=True)\n",
    "\n",
    "XLU = pd.read_csv(\"Data/XLU.csv\",\n",
    "                    delimiter=',')\n",
    "XLU['Date'] = pd.to_datetime(XLU['Date'])\n",
    "XLU.set_index('Date', inplace=True)\n",
    "\n",
    "XLV = pd.read_csv(\"Data/XLV.csv\",\n",
    "                    delimiter=',')\n",
    "XLV['Date'] = pd.to_datetime(XLV['Date'])\n",
    "XLV.set_index('Date', inplace=True)\n",
    "\n",
    "XLY = pd.read_csv(\"Data/XLY.csv\",\n",
    "                    delimiter=',')\n",
    "XLY['Date'] = pd.to_datetime(XLY['Date'])\n",
    "XLY.set_index('Date', inplace=True)\n",
    "\n",
    "SP500 = pd.read_csv(\"Data/GSPC.csv\",\n",
    "                    delimiter=',')\n",
    "SP500['Date'] = pd.to_datetime(SP500['Date'])\n",
    "SP500.set_index('Date', inplace=True)\n",
    "\n",
    "# Covert pandas dataframe to numpy\n",
    "XLB = np.array(XLB['Adj Close'])\n",
    "XLE = np.array(XLE['Adj Close'])\n",
    "XLF = np.array(XLF['Adj Close'])\n",
    "XLK = np.array(XLK['Adj Close'])\n",
    "XLP = np.array(XLP['Adj Close'])\n",
    "XLRE = np.array(XLRE['Adj Close'])\n",
    "XLU = np.array(XLU['Adj Close'])\n",
    "XLV = np.array(XLV['Adj Close'])\n",
    "XLY = np.array(XLY['Adj Close'])\n",
    "SP500 = np.array(SP500['Adj Close'])"
   ]
  },
  {
   "cell_type": "markdown",
   "metadata": {},
   "source": [
    "## Compute the return"
   ]
  },
  {
   "cell_type": "code",
   "execution_count": 11,
   "metadata": {},
   "outputs": [],
   "source": [
    "# Calculate log return for each\n",
    "XLB_ret = Log_Return(XLB,shift(XLB,1))\n",
    "XLE_ret = Log_Return(XLE,shift(XLE,1))\n",
    "XLF_ret = Log_Return(XLF,shift(XLF,1))\n",
    "XLK_ret = Log_Return(XLK,shift(XLK,1))\n",
    "XLP_ret = Log_Return(XLP,shift(XLP,1))\n",
    "XLRE_ret = Log_Return(XLRE,shift(XLRE,1))\n",
    "XLU_ret = Log_Return(XLU,shift(XLU,1))\n",
    "XLV_ret = Log_Return(XLV,shift(XLV,1))\n",
    "XLY_ret = Log_Return(XLY,shift(XLY,1))\n",
    "SP500_ret = Log_Return(SP500,shift(SP500,1))"
   ]
  },
  {
   "cell_type": "code",
   "execution_count": 12,
   "metadata": {},
   "outputs": [
    {
     "name": "stdout",
     "output_type": "stream",
     "text": [
      "Log Return: \n",
      "\n",
      "The first 10 Log Return for XLB is\n",
      "\n",
      "[        nan  0.02032047 -0.01019692 -0.01280475  0.01897043 -0.02201776\n",
      "  0.01408338  0.00652844  0.0184707  -0.02464516]\n",
      "\n",
      "\n",
      "The first 10 Log Return for XLE is\n",
      "\n",
      "[        nan  0.01781262 -0.00946074 -0.01964806  0.02083575 -0.02023011\n",
      "  0.02111976 -0.00133502  0.01779844 -0.01824363]\n",
      "\n",
      "\n",
      "The first 10 Log Return for XLF is\n",
      "\n",
      "[        nan  0.03192354 -0.01969435  0.00184005  0.01351128 -0.02237408\n",
      "  0.01363067  0.0105553   0.00793357 -0.02436029]\n",
      "\n",
      "\n",
      "The first 10 Log Return for XLK is\n",
      "\n",
      "[        nan  0.03725624 -0.03259999 -0.00668068  0.01960405 -0.02413499\n",
      "  0.00981697  0.01385923  0.00412046 -0.02482582]\n",
      "\n",
      "\n",
      "The first 10 Log Return for XLRE is\n",
      "\n",
      "[        nan  0.01354271  0.00163913  0.0181764  -0.0003217  -0.01230194\n",
      "  0.00357676  0.01161661  0.00096218 -0.01030956]\n",
      "\n",
      "\n",
      "The first 10 Log Return for XLU is\n",
      "\n",
      "[        nan  0.01034171  0.01422165 -0.00039787  0.00535768 -0.0077481\n",
      "  0.0033849   0.00218393  0.00790212 -0.00790212]\n",
      "\n",
      "\n",
      "The first 10 Log Return for XLV is\n",
      "\n",
      "[        nan  0.02049906 -0.01187548  0.00533663  0.00752209 -0.02298946\n",
      "  0.01509612  0.01413916 -0.00073268 -0.02436296]\n",
      "\n",
      "\n",
      "The first 10 Log Return for XLY is\n",
      "\n",
      "[        nan  0.02911875 -0.01977929 -0.01223856  0.01391822 -0.02864213\n",
      "  0.01261939  0.01819236  0.01330859 -0.0215188 ]\n",
      "\n",
      "\n",
      "The first 10 Log Return for S&P500 is\n",
      "\n",
      "[        nan  0.02679504 -0.01742729 -0.00292092  0.01367578 -0.02259068\n",
      "  0.01253596  0.0115001   0.00683942 -0.02216407]\n",
      "\n",
      "\n"
     ]
    }
   ],
   "source": [
    "#print the result\n",
    "print(\"Log Return: \\n\")\n",
    "print(\"The first 10 Log Return for XLB is\\n\")\n",
    "print(XLB_ret[:10])\n",
    "print(\"\\n\")\n",
    "print(\"The first 10 Log Return for XLE is\\n\")\n",
    "print(XLE_ret[:10])\n",
    "print(\"\\n\")\n",
    "print(\"The first 10 Log Return for XLF is\\n\")\n",
    "print(XLF_ret[:10])\n",
    "print(\"\\n\")\n",
    "print(\"The first 10 Log Return for XLK is\\n\")\n",
    "print(XLK_ret[:10])\n",
    "print(\"\\n\")\n",
    "print(\"The first 10 Log Return for XLRE is\\n\")\n",
    "print(XLRE_ret[:10])\n",
    "print(\"\\n\")\n",
    "print(\"The first 10 Log Return for XLU is\\n\")\n",
    "print(XLU_ret[:10])\n",
    "print(\"\\n\")\n",
    "print(\"The first 10 Log Return for XLV is\\n\")\n",
    "print(XLV_ret[:10])\n",
    "print(\"\\n\")\n",
    "print(\"The first 10 Log Return for XLY is\\n\")\n",
    "print(XLY_ret[:10])\n",
    "print(\"\\n\")\n",
    "print(\"The first 10 Log Return for S&P500 is\\n\")\n",
    "print(SP500_ret[:10])\n",
    "print(\"\\n\")"
   ]
  },
  {
   "cell_type": "markdown",
   "metadata": {},
   "source": [
    "## Write a function that computes active return internally and uses that to compute the Mean-adjusted Tracking Error (MATE)"
   ]
  },
  {
   "cell_type": "code",
   "execution_count": 13,
   "metadata": {},
   "outputs": [],
   "source": [
    "def MATE_alter(T,R_p, R_b):\n",
    "    a = 1/T\n",
    "    active_return = R_p - R_b\n",
    "    b = np.sum(active_return**2)\n",
    "    result = (a*b)**(1/2)\n",
    "    return result\n",
    "\n",
    "# Compute mean-adjusted tracking error \n",
    "MATE_XLB = MATE_alter(len(XLB),XLB_ret[~np.isnan(XLB_ret)], SP500_ret[~np.isnan(SP500_ret)]) \n",
    "MATE_XLE = MATE_alter(len(XLE),XLE_ret[~np.isnan(XLE_ret)], SP500_ret[~np.isnan(SP500_ret)]) \n",
    "MATE_XLF = MATE_alter(len(XLF),XLF_ret[~np.isnan(XLF_ret)], SP500_ret[~np.isnan(SP500_ret)]) \n",
    "MATE_XLK = MATE_alter(len(XLK),XLK_ret[~np.isnan(XLK_ret)], SP500_ret[~np.isnan(SP500_ret)]) \n",
    "MATE_XLP = MATE_alter(len(XLP),XLP_ret[~np.isnan(XLP_ret)], SP500_ret[~np.isnan(SP500_ret)]) \n",
    "MATE_XLRE = MATE_alter(len(XLRE),XLRE_ret[~np.isnan(XLRE_ret)], SP500_ret[~np.isnan(SP500_ret)]) \n",
    "MATE_XLU = MATE_alter(len(XLU),XLU_ret[~np.isnan(XLU_ret)], SP500_ret[~np.isnan(SP500_ret)]) \n",
    "MATE_XLV = MATE_alter(len(XLV),XLV_ret[~np.isnan(XLV_ret)], SP500_ret[~np.isnan(SP500_ret)]) \n",
    "MATE_XLY = MATE_alter(len(XLY),XLY_ret[~np.isnan(XLY_ret)], SP500_ret[~np.isnan(SP500_ret)]) "
   ]
  },
  {
   "cell_type": "code",
   "execution_count": 14,
   "metadata": {},
   "outputs": [
    {
     "name": "stdout",
     "output_type": "stream",
     "text": [
      "The Mean-adjusted Tracking Error of XLB is: 0.006402\n",
      "The Mean-adjusted Tracking Error of XLE is: 0.013093\n",
      "The Mean-adjusted Tracking Error of XLF is: 0.006525\n",
      "The Mean-adjusted Tracking Error of XLK is: 0.005827\n",
      "The Mean-adjusted Tracking Error of XLP is: 0.008345\n",
      "The Mean-adjusted Tracking Error of XLRE is: 0.009669\n",
      "The Mean-adjusted Tracking Error of XLU is: 0.011866\n",
      "The Mean-adjusted Tracking Error of XLV is: 0.005708\n",
      "The Mean-adjusted Tracking Error of XLY is: 0.004694\n",
      "\n",
      "\n"
     ]
    }
   ],
   "source": [
    "# Which single?\n",
    "print(\"The Mean-adjusted Tracking Error of XLB is: {:02f}\".format(MATE_XLB))\n",
    "print(\"The Mean-adjusted Tracking Error of XLE is: {:02f}\".format(MATE_XLE))\n",
    "print(\"The Mean-adjusted Tracking Error of XLF is: {:02f}\".format(MATE_XLF))\n",
    "print(\"The Mean-adjusted Tracking Error of XLK is: {:02f}\".format(MATE_XLK))\n",
    "print(\"The Mean-adjusted Tracking Error of XLP is: {:02f}\".format(MATE_XLP))\n",
    "print(\"The Mean-adjusted Tracking Error of XLRE is: {:02f}\".format(MATE_XLRE))\n",
    "print(\"The Mean-adjusted Tracking Error of XLU is: {:02f}\".format(MATE_XLU))\n",
    "print(\"The Mean-adjusted Tracking Error of XLV is: {:02f}\".format(MATE_XLV))\n",
    "print(\"The Mean-adjusted Tracking Error of XLY is: {:02f}\".format(MATE_XLY))\n",
    "print(\"\\n\")"
   ]
  },
  {
   "cell_type": "code",
   "execution_count": 15,
   "metadata": {},
   "outputs": [],
   "source": [
    "act_ret_XLB = XLB_ret - SP500_ret\n",
    "act_ret_XLE = XLE_ret - SP500_ret\n",
    "act_ret_XLF = XLF_ret - SP500_ret\n",
    "act_ret_XLK = XLK_ret - SP500_ret\n",
    "act_ret_XLP = XLP_ret - SP500_ret\n",
    "act_ret_XLRE = XLRE_ret - SP500_ret\n",
    "act_ret_XLU = XLU_ret - SP500_ret\n",
    "act_ret_XLV = XLV_ret - SP500_ret\n",
    "act_ret_XLY = XLY_ret - SP500_ret\n",
    "\n",
    "\n",
    "act_ret_XLB_ave = np.average(act_ret_XLB[~np.isnan(act_ret_XLB)])\n",
    "act_ret_XLE_ave = np.average(act_ret_XLE[~np.isnan(act_ret_XLE)])\n",
    "act_ret_XLF_ave = np.average(act_ret_XLF[~np.isnan(act_ret_XLF)])\n",
    "act_ret_XLK_ave = np.average(act_ret_XLK[~np.isnan(act_ret_XLK)])\n",
    "act_ret_XLP_ave = np.average(act_ret_XLP[~np.isnan(act_ret_XLP)])\n",
    "act_ret_XLRE_ave = np.average(act_ret_XLRE[~np.isnan(act_ret_XLRE)])\n",
    "act_ret_XLU_ave = np.average(act_ret_XLU[~np.isnan(act_ret_XLU)])\n",
    "act_ret_XLV_ave = np.average(act_ret_XLV[~np.isnan(act_ret_XLV)])\n",
    "act_ret_XLY_ave = np.average(act_ret_XLY[~np.isnan(act_ret_XLY)])"
   ]
  },
  {
   "cell_type": "code",
   "execution_count": 16,
   "metadata": {},
   "outputs": [
    {
     "name": "stdout",
     "output_type": "stream",
     "text": [
      "The Active Return of XLB is: -0.000334\n",
      "The Active Return of XLE is: -0.001486\n",
      "The Active Return of XLF is: -0.000396\n",
      "The Active Return of XLK is: 0.000490\n",
      "The Active Return of XLP is: 0.000315\n",
      "The Active Return of XLRE is: 0.000152\n",
      "The Active Return of XLU is: 0.000294\n",
      "The Active Return of XLV is: 0.000286\n",
      "The Active Return of XLY is: 0.000014\n",
      "\n",
      "\n"
     ]
    }
   ],
   "source": [
    "print(\"The Active Return of XLB is: {:02f}\".format(act_ret_XLB_ave))\n",
    "print(\"The Active Return of XLE is: {:02f}\".format(act_ret_XLE_ave))\n",
    "print(\"The Active Return of XLF is: {:02f}\".format(act_ret_XLF_ave))\n",
    "print(\"The Active Return of XLK is: {:02f}\".format(act_ret_XLK_ave))\n",
    "print(\"The Active Return of XLP is: {:02f}\".format(act_ret_XLP_ave))\n",
    "print(\"The Active Return of XLRE is: {:02f}\".format(act_ret_XLRE_ave))\n",
    "print(\"The Active Return of XLU is: {:02f}\".format(act_ret_XLU_ave))\n",
    "print(\"The Active Return of XLV is: {:02f}\".format(act_ret_XLV_ave))\n",
    "print(\"The Active Return of XLY is: {:02f}\".format(act_ret_XLY_ave))\n",
    "print(\"\\n\")"
   ]
  },
  {
   "cell_type": "markdown",
   "metadata": {},
   "source": [
    "## Determine which single sector fund best tracks the S&P500.\n",
    "As we see from the above result, XLY have both the smallest MATE and Active Return, thus I choose XLY as the sector fund that tracks the S&P500 the best."
   ]
  }
 ],
 "metadata": {
  "file_extension": ".py",
  "kernelspec": {
   "display_name": "Python 3",
   "language": "python",
   "name": "python3"
  },
  "language_info": {
   "codemirror_mode": {
    "name": "ipython",
    "version": 3
   },
   "file_extension": ".py",
   "mimetype": "text/x-python",
   "name": "python",
   "nbconvert_exporter": "python",
   "pygments_lexer": "ipython3",
   "version": "3.8.1-final"
  },
  "mimetype": "text/x-python",
  "name": "python",
  "npconvert_exporter": "python",
  "pygments_lexer": "ipython3",
  "version": 3
 },
 "nbformat": 4,
 "nbformat_minor": 2
}