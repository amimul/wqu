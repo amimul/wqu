{
 "cells": [
  {
   "cell_type": "markdown",
   "metadata": {},
   "source": [
    "# Collaborative Review Task 1\n",
    "\n",
    "In this module, you are required to complete a collaborative review task, which is designed to test your ability to apply and analyze the knowledge you have learned during the week.\n",
    "\n",
    "## Brief\n",
    "\n",
    "Mclean Technology is a software engineering company. The Board of Directors has established a policy of paying out 30% of net income as dividends. In the financial year recently ended, Mclean earned a return on equity (ROE) of 18%. Beginning shareholders' equity was $10,500,500. A dividend was paid to shareholders. Mclean has 100,000 shares outstanding.\n",
    "\n",
    "Jason Rissik is investigating Mclean with the intention of purchasing shares, if they are reasonably priced. He decides that he will purchase shares in Mclean if his estimate of intrinsic value is 20% or higher than the current market price. The current market price is 107.02. Rissik decides to use the Gordon Growth Model with dividends as the cash flow input. To estimate $g$ he decides to use the formula:\n",
    "\n",
    "$$ g = b * ROE$$\n",
    "\n",
    "where:\n",
    "\n",
    "$b$ = earnings retention ratio\n",
    "\n",
    "$ROE$ = return on equity\n",
    "\n",
    "The earnings retention ratio $(b)$ is that portion of net income not paid out as dividends. He decides to assume that Mclean's most recent year's ROE is the company's average ROE.\n",
    "\n",
    "To calculate the equity discount $(r)$ he decides to use the Capital Asset Pricing Model (CAPM). The inputs into the CAPM are as follows:"
   ]
  },
  {
   "cell_type": "code",
   "execution_count": 1,
   "metadata": {},
   "outputs": [
    {
     "data": {
      "text/html": [
       "<table border=\"1\" class=\"dataframe\">\n",
       "  <thead>\n",
       "    <tr style=\"text-align: right;\">\n",
       "      <th>Data</th>\n",
       "      <th>Value</th>\n",
       "    </tr>\n",
       "  </thead>\n",
       "  <tbody>\n",
       "    <tr>\n",
       "      <td>Real yield on 10-year treasury bonds</td>\n",
       "      <td>0.032</td>\n",
       "    </tr>\n",
       "    <tr>\n",
       "      <td>Historical nominal return on the S&amp;P500</td>\n",
       "      <td>0.153</td>\n",
       "    </tr>\n",
       "    <tr>\n",
       "      <td>Beta of Mclean with respect to the market risk premium</td>\n",
       "      <td>1.210</td>\n",
       "    </tr>\n",
       "    <tr>\n",
       "      <td>Federal Reserve inflation rate target</td>\n",
       "      <td>0.028</td>\n",
       "    </tr>\n",
       "  </tbody>\n",
       "</table>"
      ],
      "text/plain": [
       "<IPython.core.display.HTML object>"
      ]
     },
     "metadata": {},
     "output_type": "display_data"
    }
   ],
   "source": [
    "import pandas as pd\n",
    "data = [[\"Real yield on 10-year treasury bonds\", 3.2/100], \n",
    "        [\"Historical nominal return on the S&P500\", 15.3/100],\n",
    "        [\"Beta of Mclean with respect to the market risk premium\", 1.21],\n",
    "        [\"Federal Reserve inflation rate target\", 2.8/100]]\n",
    "capm = pd.DataFrame(data, columns=[\"Data\", \"Value\"])\n",
    "from IPython.display import display, HTML\n",
    "display(HTML(capm.to_html(index=False)))"
   ]
  },
  {
   "cell_type": "markdown",
   "metadata": {},
   "source": [
    "Rissik estimates that the price of Mclean in one year's time will be 118 dollar. He expects to receive a dividend of 6.38 dollar per share at that time as well.\n",
    "\n",
    "Rissik decides to use the Sharpe ratio to assess the attractiveness of Mclean compared to similar companies. Mclean has an estimated volatility of 8.2%, which is similar to peer companies. The Sharpe ratios for peer companies are as follow:"
   ]
  },
  {
   "cell_type": "code",
   "execution_count": 2,
   "metadata": {},
   "outputs": [
    {
     "data": {
      "text/html": [
       "<table border=\"1\" class=\"dataframe\">\n",
       "  <thead>\n",
       "    <tr style=\"text-align: right;\">\n",
       "      <th>Data</th>\n",
       "      <th>Value</th>\n",
       "    </tr>\n",
       "  </thead>\n",
       "  <tbody>\n",
       "    <tr>\n",
       "      <td>Emslie</td>\n",
       "      <td>0.81</td>\n",
       "    </tr>\n",
       "    <tr>\n",
       "      <td>Nel</td>\n",
       "      <td>1.02</td>\n",
       "    </tr>\n",
       "    <tr>\n",
       "      <td>Van Zyl</td>\n",
       "      <td>1.33</td>\n",
       "    </tr>\n",
       "  </tbody>\n",
       "</table>"
      ],
      "text/plain": [
       "<IPython.core.display.HTML object>"
      ]
     },
     "metadata": {},
     "output_type": "display_data"
    }
   ],
   "source": [
    "import pandas as pd\n",
    "data = [[\"Emslie\", 0.81], \n",
    "        [\"Nel\", 1.02],\n",
    "        [\"Van Zyl\", 1.33]]\n",
    "sharpe = pd.DataFrame(data, columns=[\"Data\", \"Value\"])\n",
    "from IPython.display import display, HTML\n",
    "display(HTML(sharpe.to_html(index=False)))"
   ]
  },
  {
   "cell_type": "markdown",
   "metadata": {},
   "source": [
    "A correlations matrix for the four peer companies appears below:"
   ]
  },
  {
   "cell_type": "code",
   "execution_count": 3,
   "metadata": {},
   "outputs": [
    {
     "data": {
      "text/html": [
       "<table border=\"1\" class=\"dataframe\">\n",
       "  <thead>\n",
       "    <tr style=\"text-align: right;\">\n",
       "      <th></th>\n",
       "      <th>Mclean</th>\n",
       "      <th>Emslie</th>\n",
       "      <th>Nel</th>\n",
       "      <th>Van Zyl</th>\n",
       "    </tr>\n",
       "  </thead>\n",
       "  <tbody>\n",
       "    <tr>\n",
       "      <td>Mclean</td>\n",
       "      <td>1</td>\n",
       "      <td>0.86</td>\n",
       "      <td>0.02</td>\n",
       "      <td>-0.45</td>\n",
       "    </tr>\n",
       "    <tr>\n",
       "      <td>Emslie</td>\n",
       "      <td></td>\n",
       "      <td>1</td>\n",
       "      <td>-0.21</td>\n",
       "      <td>0.54</td>\n",
       "    </tr>\n",
       "    <tr>\n",
       "      <td>Nel</td>\n",
       "      <td></td>\n",
       "      <td></td>\n",
       "      <td>1</td>\n",
       "      <td>0.18</td>\n",
       "    </tr>\n",
       "    <tr>\n",
       "      <td>Van Zyl</td>\n",
       "      <td></td>\n",
       "      <td></td>\n",
       "      <td></td>\n",
       "      <td>1.33</td>\n",
       "    </tr>\n",
       "  </tbody>\n",
       "</table>"
      ],
      "text/plain": [
       "<IPython.core.display.HTML object>"
      ]
     },
     "metadata": {},
     "output_type": "display_data"
    }
   ],
   "source": [
    "import pandas as pd\n",
    "data = [[\"Mclean\", 1, 0.86, 0.02, -0.45], \n",
    "        [\"Emslie\",\"\", 1, -0.21, 0.54],\n",
    "        [\"Nel\",\"\",\"\", 1, 0.18],\n",
    "        [\"Van Zyl\",\"\",\"\",\"\", 1.33]]\n",
    "corr = pd.DataFrame(data, columns=[\"\", \"Mclean\", \"Emslie\", \"Nel\", \"Van Zyl\"])\n",
    "from IPython.display import display, HTML\n",
    "display(HTML(corr.to_html(index=False)))"
   ]
  },
  {
   "cell_type": "markdown",
   "metadata": {},
   "source": [
    "## Questions:\n",
    "\n",
    "1. Calculate the most recent dividend per share for Mclean.\n",
    "2. Calculate the intrinsic value of Mclean using the Gordon Growth Model with dividends as the cash flow input.\n",
    "3. Based on his criteria for investment, will Rissik decide to purchase Mclean shares?\n",
    "4. Based on his assumption about the share price of Mclean in one year's time, what is Rissik's expected total return for his Mclean investment?\n",
    "5. Based on the Sharpe ratio, is Mclean the most attractive investment?\n",
    "6. Considering the correlation of Mclean with its peer companies, the combination with which company (in a two-asset portfolio) will result in a portfolio with the lowest volatility?"
   ]
  },
  {
   "cell_type": "markdown",
   "metadata": {},
   "source": [
    "# Answers:"
   ]
  },
  {
   "cell_type": "code",
   "execution_count": 4,
   "metadata": {},
   "outputs": [],
   "source": [
    "# declare variable\n",
    "pay_out = 0.3\n",
    "roe = 0.18\n",
    "equity = 10.5 * 10**6\n",
    "shares = 10**5\n",
    "\n",
    "rissik_crit = 0.2\n",
    "rissik_price = 118\n",
    "rissik_dividend = 6.38\n",
    "current_price = 107.02\n",
    "g = (1-pay_out)*roe\n",
    "sigma_Mclean = 0.082\n",
    "\n",
    "R_y = capm.loc[0][\"Value\"]\n",
    "R_m = capm.loc[1][\"Value\"]\n",
    "Beta = capm.loc[2][\"Value\"]\n",
    "R_in = capm.loc[3][\"Value\"]"
   ]
  },
  {
   "cell_type": "markdown",
   "metadata": {},
   "source": [
    "1. Calculate the most recent dividend per share for Mclean:"
   ]
  },
  {
   "cell_type": "code",
   "execution_count": 5,
   "metadata": {},
   "outputs": [
    {
     "name": "stdout",
     "output_type": "stream",
     "text": [
      "The dividend per share for Mclean is 5.669999999999999\n"
     ]
    }
   ],
   "source": [
    "# Calculate the earning per share\n",
    "net_income = equity * roe\n",
    "eps = net_income/shares\n",
    "\n",
    "# Calculate the dividend\n",
    "D0 = eps * pay_out\n",
    "print(\"The dividend per share for Mclean is {}\".format(D0))"
   ]
  },
  {
   "cell_type": "markdown",
   "metadata": {},
   "source": [
    "2. Calculate the intrinsic value of Mclean using the Gordon Growth Model with dividends as the cash flow input."
   ]
  },
  {
   "cell_type": "code",
   "execution_count": 6,
   "metadata": {},
   "outputs": [
    {
     "name": "stdout",
     "output_type": "stream",
     "text": [
      "The intrinsic value of Mclean using Gordon Growth Model is 137.21083172147002\n"
     ]
    }
   ],
   "source": [
    "# Calculate the periodic equity discount rate by CAPM:\n",
    "R_f = R_y + R_in\n",
    "R_i = R_f + Beta*(R_m - R_f)\n",
    "V0 = D0 * (1+g)/(R_i - g)\n",
    "\n",
    "print(\"The intrinsic value of Mclean using Gordon Growth Model is {}\".format(V0))"
   ]
  },
  {
   "cell_type": "markdown",
   "metadata": {},
   "source": [
    "3. Based on his criteria for investment, will Rissik decide to purchase Mclean shares?"
   ]
  },
  {
   "cell_type": "code",
   "execution_count": 7,
   "metadata": {},
   "outputs": [
    {
     "name": "stdout",
     "output_type": "stream",
     "text": [
      "Rissik should purchase Mclean shares\n"
     ]
    }
   ],
   "source": [
    "# Calculate the return for intrisic value\n",
    "rissik_return = V0/current_price - 1\n",
    "\n",
    "# Criteria\n",
    "if (rissik_return > rissik_crit):\n",
    "    print(\"Rissik should purchase Mclean shares\")\n",
    "else:\n",
    "    print(\"Rissik shouldn't purchase Mclean shares\")"
   ]
  },
  {
   "cell_type": "markdown",
   "metadata": {},
   "source": [
    "4. Based on his assumption about the share price of Mclean in one year's time, what is Rissik's expected total return for his Mclean investment?"
   ]
  },
  {
   "cell_type": "code",
   "execution_count": 8,
   "metadata": {},
   "outputs": [
    {
     "name": "stdout",
     "output_type": "stream",
     "text": [
      "Rissik's expected total return is 16.221267052887313%\n"
     ]
    }
   ],
   "source": [
    "# Calculate the expected total return for Rissik's assumption\n",
    "rissik_total_return = ((rissik_price + rissik_dividend)/current_price - 1)*100\n",
    "print(\"Rissik's expected total return is {}%\".format(rissik_total_return))"
   ]
  },
  {
   "cell_type": "markdown",
   "metadata": {},
   "source": [
    "5. Based on the Sharpe ratio, is Mclean the most attractive investment?"
   ]
  },
  {
   "cell_type": "code",
   "execution_count": 9,
   "metadata": {},
   "outputs": [
    {
     "name": "stdout",
     "output_type": "stream",
     "text": [
      "Mclean is the most attractive investment\n"
     ]
    }
   ],
   "source": [
    "# Calculate Sharpe ratio of Mclean\n",
    "R_p = R_i\n",
    "Sharpe_Mclean = (R_i - R_f)/sigma_Mclean\n",
    "Mclean_good = True\n",
    "for i in sharpe[\"Value\"]: \n",
    "    if Sharpe_Mclean < i:\n",
    "        print(\"Mclean is not the most attractive investment\")\n",
    "        Mclean_good = False\n",
    "        break\n",
    "if Mclean_good == True:\n",
    "    print(\"Mclean is the most attractive investment\")\n",
    "\n"
   ]
  },
  {
   "cell_type": "markdown",
   "metadata": {},
   "source": [
    "6. Considering the correlation of Mclean with its peer companies, the combination with which company (in a two-asset portfolio) will result in a portfolio with the lowest volatility?"
   ]
  },
  {
   "cell_type": "code",
   "execution_count": 10,
   "metadata": {},
   "outputs": [
    {
     "data": {
      "text/html": [
       "<table border=\"1\" class=\"dataframe\">\n",
       "  <thead>\n",
       "    <tr style=\"text-align: right;\">\n",
       "      <th></th>\n",
       "      <th>Mclean</th>\n",
       "      <th>Emslie</th>\n",
       "      <th>Nel</th>\n",
       "      <th>Van Zyl</th>\n",
       "    </tr>\n",
       "  </thead>\n",
       "  <tbody>\n",
       "    <tr>\n",
       "      <td>Mclean</td>\n",
       "      <td>1</td>\n",
       "      <td>0.86</td>\n",
       "      <td>0.02</td>\n",
       "      <td>-0.45</td>\n",
       "    </tr>\n",
       "    <tr>\n",
       "      <td>Emslie</td>\n",
       "      <td></td>\n",
       "      <td>1</td>\n",
       "      <td>-0.21</td>\n",
       "      <td>0.54</td>\n",
       "    </tr>\n",
       "    <tr>\n",
       "      <td>Nel</td>\n",
       "      <td></td>\n",
       "      <td></td>\n",
       "      <td>1</td>\n",
       "      <td>0.18</td>\n",
       "    </tr>\n",
       "    <tr>\n",
       "      <td>Van Zyl</td>\n",
       "      <td></td>\n",
       "      <td></td>\n",
       "      <td></td>\n",
       "      <td>1.33</td>\n",
       "    </tr>\n",
       "  </tbody>\n",
       "</table>"
      ],
      "text/plain": [
       "<IPython.core.display.HTML object>"
      ]
     },
     "metadata": {},
     "output_type": "display_data"
    }
   ],
   "source": [
    "display(HTML(corr.to_html(index=False)))"
   ]
  },
  {
   "cell_type": "markdown",
   "metadata": {},
   "source": [
    "Based on the data above, and the formula for volatility of a portfolio consists of two assets:\n",
    "\n",
    "$$ \\sigma_p = \\sqrt{\\omega_1^2 * \\sigma_1^2 + \\omega_2^2 * \\sigma_2^2 + 2*\\omega_1*\\sigma_1*\\omega_2*\\sigma_2*\\rho_{1,2}} $$\n",
    "\n",
    "For the formula below to achieve the lowest volatility, it should be noted that the $ \\rho_{1,2} $ must be lowest, which is $ \\rho_{Van Zyl} = -0.45 $.\n",
    "\n",
    "In conclusion, the best combination should be Mclean and Van Zyl"
   ]
  },
  {
   "cell_type": "code",
   "execution_count": null,
   "metadata": {},
   "outputs": [],
   "source": []
  }
 ],
 "metadata": {
  "file_extension": ".py",
  "kernelspec": {
   "display_name": "Python 3",
   "language": "python",
   "name": "python3"
  },
  "language_info": {
   "codemirror_mode": {
    "name": "ipython",
    "version": 3
   },
   "file_extension": ".py",
   "mimetype": "text/x-python",
   "name": "python",
   "nbconvert_exporter": "python",
   "pygments_lexer": "ipython3",
   "version": "3.8.1"
  },
  "mimetype": "text/x-python",
  "name": "python",
  "npconvert_exporter": "python",
  "pygments_lexer": "ipython3",
  "version": 3
 },
 "nbformat": 4,
 "nbformat_minor": 2
}