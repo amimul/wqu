{
 "cells": [
  {
   "cell_type": "code",
   "execution_count": 30,
   "metadata": {},
   "outputs": [],
   "source": [
    "import numpy as np\n",
    "import pandas as pd\n",
    "import scipy.stats as stats\n",
    "import datetime\n",
    "import matplotlib.pyplot as plt\n",
    "import seaborn as sns\n",
    "%matplotlib inline"
   ]
  },
  {
   "cell_type": "code",
   "execution_count": 91,
   "metadata": {},
   "outputs": [
    {
     "data": {
      "text/html": [
       "<div>\n",
       "<style scoped>\n",
       "    .dataframe tbody tr th:only-of-type {\n",
       "        vertical-align: middle;\n",
       "    }\n",
       "\n",
       "    .dataframe tbody tr th {\n",
       "        vertical-align: top;\n",
       "    }\n",
       "\n",
       "    .dataframe thead th {\n",
       "        text-align: right;\n",
       "    }\n",
       "</style>\n",
       "<table border=\"1\" class=\"dataframe\">\n",
       "  <thead>\n",
       "    <tr style=\"text-align: right;\">\n",
       "      <th></th>\n",
       "      <th>date</th>\n",
       "      <th>open</th>\n",
       "      <th>high</th>\n",
       "      <th>low</th>\n",
       "      <th>volume</th>\n",
       "      <th>close</th>\n",
       "      <th>date_</th>\n",
       "    </tr>\n",
       "  </thead>\n",
       "  <tbody>\n",
       "    <tr>\n",
       "      <th>0</th>\n",
       "      <td>2013-09-01 18:18:59</td>\n",
       "      <td>1640.25</td>\n",
       "      <td>1642.00</td>\n",
       "      <td>1639.00</td>\n",
       "      <td>21722</td>\n",
       "      <td>1641.25</td>\n",
       "      <td>2013-09-01 18:18:59</td>\n",
       "    </tr>\n",
       "    <tr>\n",
       "      <th>1</th>\n",
       "      <td>2013-09-01 21:42:07</td>\n",
       "      <td>1641.25</td>\n",
       "      <td>1643.50</td>\n",
       "      <td>1639.75</td>\n",
       "      <td>21713</td>\n",
       "      <td>1640.75</td>\n",
       "      <td>2013-09-01 21:42:07</td>\n",
       "    </tr>\n",
       "    <tr>\n",
       "      <th>2</th>\n",
       "      <td>2013-09-02 02:05:25</td>\n",
       "      <td>1640.75</td>\n",
       "      <td>1644.50</td>\n",
       "      <td>1640.50</td>\n",
       "      <td>21645</td>\n",
       "      <td>1644.50</td>\n",
       "      <td>2013-09-02 02:05:25</td>\n",
       "    </tr>\n",
       "    <tr>\n",
       "      <th>3</th>\n",
       "      <td>2013-09-02 03:02:09</td>\n",
       "      <td>1644.50</td>\n",
       "      <td>1646.00</td>\n",
       "      <td>1642.75</td>\n",
       "      <td>21722</td>\n",
       "      <td>1645.25</td>\n",
       "      <td>2013-09-02 03:02:09</td>\n",
       "    </tr>\n",
       "    <tr>\n",
       "      <th>4</th>\n",
       "      <td>2013-09-02 04:32:44</td>\n",
       "      <td>1645.25</td>\n",
       "      <td>1647.25</td>\n",
       "      <td>1644.25</td>\n",
       "      <td>21654</td>\n",
       "      <td>1645.50</td>\n",
       "      <td>2013-09-02 04:32:44</td>\n",
       "    </tr>\n",
       "  </tbody>\n",
       "</table>\n",
       "</div>"
      ],
      "text/plain": [
       "                 date     open     high      low  volume    close  \\\n",
       "0 2013-09-01 18:18:59  1640.25  1642.00  1639.00   21722  1641.25   \n",
       "1 2013-09-01 21:42:07  1641.25  1643.50  1639.75   21713  1640.75   \n",
       "2 2013-09-02 02:05:25  1640.75  1644.50  1640.50   21645  1644.50   \n",
       "3 2013-09-02 03:02:09  1644.50  1646.00  1642.75   21722  1645.25   \n",
       "4 2013-09-02 04:32:44  1645.25  1647.25  1644.25   21654  1645.50   \n",
       "\n",
       "                date_  \n",
       "0 2013-09-01 18:18:59  \n",
       "1 2013-09-01 21:42:07  \n",
       "2 2013-09-02 02:05:25  \n",
       "3 2013-09-02 03:02:09  \n",
       "4 2013-09-02 04:32:44  "
      ]
     },
     "execution_count": 91,
     "metadata": {},
     "output_type": "execute_result"
    }
   ],
   "source": [
    "# import data\n",
    "db = pd.read_csv(\"./Data/dollar_bars.csv\", delimiter=',')\n",
    "db['date'] = pd.to_datetime(db['date'], format=\"%m/%d/%Y %H:%M:%S\")\n",
    "db['date_'] = db['date']\n",
    "db.head()"
   ]
  },
  {
   "cell_type": "code",
   "execution_count": 92,
   "metadata": {},
   "outputs": [
    {
     "data": {
      "image/png": "[encoded data removed]",
      "text/plain": [
       "<Figure size 432x288 with 1 Axes>"
      ]
     },
     "metadata": {},
     "output_type": "display_data"
    }
   ],
   "source": [
    "sns.set_style('darkgrid')\n",
    "sns.lineplot(x='date_', y='close', data=db)\n",
    "plt.xticks(rotation=30)\n",
    "plt.show()"
   ]
  },
  {
   "cell_type": "code",
   "execution_count": 93,
   "metadata": {},
   "outputs": [],
   "source": [
    "# Calculate Return, Log Return\n",
    "def nans(shape, dtype=float):\n",
    "    # To generate nans array\n",
    "    a = np.empty(shape, dtype)\n",
    "    a.fill(np.nan)\n",
    "    return a\n",
    "\n",
    "def shift(price_array, n):\n",
    "    # n is the number shift to the right\n",
    "    result = nans(len(price_array))\n",
    "    for i in range(n,len(price_array)):\n",
    "        result[i] = price_array[i-n]\n",
    "    return result\n",
    "\n",
    "def normal_neturn(P_f, P_i):\n",
    "    result = (P_f - P_i)/P_i\n",
    "    return result\n",
    "\n",
    "def log_return(P_f, P_i):\n",
    "    result = np.log(P_f/P_i)\n",
    "    return result"
   ]
  },
  {
   "cell_type": "code",
   "execution_count": 94,
   "metadata": {},
   "outputs": [
    {
     "data": {
      "text/html": [
       "<div>\n",
       "<style scoped>\n",
       "    .dataframe tbody tr th:only-of-type {\n",
       "        vertical-align: middle;\n",
       "    }\n",
       "\n",
       "    .dataframe tbody tr th {\n",
       "        vertical-align: top;\n",
       "    }\n",
       "\n",
       "    .dataframe thead th {\n",
       "        text-align: right;\n",
       "    }\n",
       "</style>\n",
       "<table border=\"1\" class=\"dataframe\">\n",
       "  <thead>\n",
       "    <tr style=\"text-align: right;\">\n",
       "      <th></th>\n",
       "      <th>date</th>\n",
       "      <th>open</th>\n",
       "      <th>high</th>\n",
       "      <th>low</th>\n",
       "      <th>volume</th>\n",
       "      <th>close</th>\n",
       "      <th>date_</th>\n",
       "      <th>Log_Return</th>\n",
       "    </tr>\n",
       "  </thead>\n",
       "  <tbody>\n",
       "    <tr>\n",
       "      <th>0</th>\n",
       "      <td>2013-09-01 18:18:59</td>\n",
       "      <td>1640.25</td>\n",
       "      <td>1642.00</td>\n",
       "      <td>1639.00</td>\n",
       "      <td>21722</td>\n",
       "      <td>1641.25</td>\n",
       "      <td>2013-09-01 18:18:59</td>\n",
       "      <td>NaN</td>\n",
       "    </tr>\n",
       "    <tr>\n",
       "      <th>1</th>\n",
       "      <td>2013-09-01 21:42:07</td>\n",
       "      <td>1641.25</td>\n",
       "      <td>1643.50</td>\n",
       "      <td>1639.75</td>\n",
       "      <td>21713</td>\n",
       "      <td>1640.75</td>\n",
       "      <td>2013-09-01 21:42:07</td>\n",
       "      <td>-0.000305</td>\n",
       "    </tr>\n",
       "    <tr>\n",
       "      <th>2</th>\n",
       "      <td>2013-09-02 02:05:25</td>\n",
       "      <td>1640.75</td>\n",
       "      <td>1644.50</td>\n",
       "      <td>1640.50</td>\n",
       "      <td>21645</td>\n",
       "      <td>1644.50</td>\n",
       "      <td>2013-09-02 02:05:25</td>\n",
       "      <td>0.002283</td>\n",
       "    </tr>\n",
       "    <tr>\n",
       "      <th>3</th>\n",
       "      <td>2013-09-02 03:02:09</td>\n",
       "      <td>1644.50</td>\n",
       "      <td>1646.00</td>\n",
       "      <td>1642.75</td>\n",
       "      <td>21722</td>\n",
       "      <td>1645.25</td>\n",
       "      <td>2013-09-02 03:02:09</td>\n",
       "      <td>0.000456</td>\n",
       "    </tr>\n",
       "    <tr>\n",
       "      <th>4</th>\n",
       "      <td>2013-09-02 04:32:44</td>\n",
       "      <td>1645.25</td>\n",
       "      <td>1647.25</td>\n",
       "      <td>1644.25</td>\n",
       "      <td>21654</td>\n",
       "      <td>1645.50</td>\n",
       "      <td>2013-09-02 04:32:44</td>\n",
       "      <td>0.000152</td>\n",
       "    </tr>\n",
       "  </tbody>\n",
       "</table>\n",
       "</div>"
      ],
      "text/plain": [
       "                 date     open     high      low  volume    close  \\\n",
       "0 2013-09-01 18:18:59  1640.25  1642.00  1639.00   21722  1641.25   \n",
       "1 2013-09-01 21:42:07  1641.25  1643.50  1639.75   21713  1640.75   \n",
       "2 2013-09-02 02:05:25  1640.75  1644.50  1640.50   21645  1644.50   \n",
       "3 2013-09-02 03:02:09  1644.50  1646.00  1642.75   21722  1645.25   \n",
       "4 2013-09-02 04:32:44  1645.25  1647.25  1644.25   21654  1645.50   \n",
       "\n",
       "                date_  Log_Return  \n",
       "0 2013-09-01 18:18:59         NaN  \n",
       "1 2013-09-01 21:42:07   -0.000305  \n",
       "2 2013-09-02 02:05:25    0.002283  \n",
       "3 2013-09-02 03:02:09    0.000456  \n",
       "4 2013-09-02 04:32:44    0.000152  "
      ]
     },
     "execution_count": 94,
     "metadata": {},
     "output_type": "execute_result"
    }
   ],
   "source": [
    "db['Log_Return'] = log_return(db['close'],shift(db['close'],1))\n",
    "db.head()"
   ]
  },
  {
   "cell_type": "code",
   "execution_count": 95,
   "metadata": {},
   "outputs": [
    {
     "data": {
      "image/png": "[encoded data removed]",
      "text/plain": [
       "<Figure size 432x288 with 1 Axes>"
      ]
     },
     "metadata": {},
     "output_type": "display_data"
    }
   ],
   "source": [
    "sns.set_style('darkgrid')\n",
    "sns.lineplot(x='date_', y='Log_Return', data=db)\n",
    "plt.xticks(rotation=30)\n",
    "plt.show()"
   ]
  },
  {
   "cell_type": "code",
   "execution_count": 96,
   "metadata": {},
   "outputs": [
    {
     "data": {
      "text/plain": [
       "(11519.487972281377, 0.0)"
      ]
     },
     "execution_count": 96,
     "metadata": {},
     "output_type": "execute_result"
    }
   ],
   "source": [
    "# Bera-Jarque\n",
    "stats.jarque_bera(np.array(db['Log_Return'].dropna()))"
   ]
  },
  {
   "cell_type": "code",
   "execution_count": 107,
   "metadata": {},
   "outputs": [],
   "source": [
    "# import data\n",
    "tb = pd.read_csv(\"./Data/time_bars.csv\", delimiter=',')\n",
    "tb['date'] = pd.to_datetime(tb['date'], format=\"%Y-%m-%d %H:%M:%S\")\n",
    "tb['date_'] = tb['date']"
   ]
  },
  {
   "cell_type": "code",
   "execution_count": 108,
   "metadata": {},
   "outputs": [
    {
     "data": {
      "text/html": [
       "<div>\n",
       "<style scoped>\n",
       "    .dataframe tbody tr th:only-of-type {\n",
       "        vertical-align: middle;\n",
       "    }\n",
       "\n",
       "    .dataframe tbody tr th {\n",
       "        vertical-align: top;\n",
       "    }\n",
       "\n",
       "    .dataframe thead th {\n",
       "        text-align: right;\n",
       "    }\n",
       "</style>\n",
       "<table border=\"1\" class=\"dataframe\">\n",
       "  <thead>\n",
       "    <tr style=\"text-align: right;\">\n",
       "      <th></th>\n",
       "      <th>date</th>\n",
       "      <th>open</th>\n",
       "      <th>high</th>\n",
       "      <th>low</th>\n",
       "      <th>close</th>\n",
       "      <th>volume</th>\n",
       "      <th>vwap</th>\n",
       "      <th>date_</th>\n",
       "    </tr>\n",
       "  </thead>\n",
       "  <tbody>\n",
       "    <tr>\n",
       "      <th>0</th>\n",
       "      <td>2013-09-01 17:16:00</td>\n",
       "      <td>1640.25</td>\n",
       "      <td>1642.00</td>\n",
       "      <td>1639.00</td>\n",
       "      <td>1640.00</td>\n",
       "      <td>10825</td>\n",
       "      <td>1640.317090</td>\n",
       "      <td>2013-09-01 17:16:00</td>\n",
       "    </tr>\n",
       "    <tr>\n",
       "      <th>1</th>\n",
       "      <td>2013-09-01 17:44:00</td>\n",
       "      <td>1640.00</td>\n",
       "      <td>1642.00</td>\n",
       "      <td>1639.50</td>\n",
       "      <td>1641.25</td>\n",
       "      <td>7039</td>\n",
       "      <td>1640.837122</td>\n",
       "      <td>2013-09-01 17:44:00</td>\n",
       "    </tr>\n",
       "    <tr>\n",
       "      <th>2</th>\n",
       "      <td>2013-09-01 18:12:00</td>\n",
       "      <td>1641.25</td>\n",
       "      <td>1642.00</td>\n",
       "      <td>1640.75</td>\n",
       "      <td>1641.00</td>\n",
       "      <td>3161</td>\n",
       "      <td>1641.457213</td>\n",
       "      <td>2013-09-01 18:12:00</td>\n",
       "    </tr>\n",
       "    <tr>\n",
       "      <th>3</th>\n",
       "      <td>2013-09-01 18:40:00</td>\n",
       "      <td>1641.00</td>\n",
       "      <td>1641.25</td>\n",
       "      <td>1640.50</td>\n",
       "      <td>1640.75</td>\n",
       "      <td>1277</td>\n",
       "      <td>1640.910532</td>\n",
       "      <td>2013-09-01 18:40:00</td>\n",
       "    </tr>\n",
       "    <tr>\n",
       "      <th>4</th>\n",
       "      <td>2013-09-01 19:08:00</td>\n",
       "      <td>1640.75</td>\n",
       "      <td>1640.75</td>\n",
       "      <td>1639.75</td>\n",
       "      <td>1640.25</td>\n",
       "      <td>2093</td>\n",
       "      <td>1640.348065</td>\n",
       "      <td>2013-09-01 19:08:00</td>\n",
       "    </tr>\n",
       "  </tbody>\n",
       "</table>\n",
       "</div>"
      ],
      "text/plain": [
       "                 date     open     high      low    close  volume  \\\n",
       "0 2013-09-01 17:16:00  1640.25  1642.00  1639.00  1640.00   10825   \n",
       "1 2013-09-01 17:44:00  1640.00  1642.00  1639.50  1641.25    7039   \n",
       "2 2013-09-01 18:12:00  1641.25  1642.00  1640.75  1641.00    3161   \n",
       "3 2013-09-01 18:40:00  1641.00  1641.25  1640.50  1640.75    1277   \n",
       "4 2013-09-01 19:08:00  1640.75  1640.75  1639.75  1640.25    2093   \n",
       "\n",
       "          vwap               date_  \n",
       "0  1640.317090 2013-09-01 17:16:00  \n",
       "1  1640.837122 2013-09-01 17:44:00  \n",
       "2  1641.457213 2013-09-01 18:12:00  \n",
       "3  1640.910532 2013-09-01 18:40:00  \n",
       "4  1640.348065 2013-09-01 19:08:00  "
      ]
     },
     "execution_count": 108,
     "metadata": {},
     "output_type": "execute_result"
    }
   ],
   "source": [
    "tb.head()"
   ]
  },
  {
   "cell_type": "code",
   "execution_count": 109,
   "metadata": {},
   "outputs": [
    {
     "data": {
      "image/png": "[encoded data removed]",
      "text/plain": [
       "<Figure size 432x288 with 1 Axes>"
      ]
     },
     "metadata": {},
     "output_type": "display_data"
    }
   ],
   "source": [
    "sns.set_style('darkgrid')\n",
    "sns.lineplot(x='date_', y='close', data=tb)\n",
    "plt.xticks(rotation=30)\n",
    "plt.show()"
   ]
  },
  {
   "cell_type": "code",
   "execution_count": 110,
   "metadata": {},
   "outputs": [
    {
     "data": {
      "text/html": [
       "<div>\n",
       "<style scoped>\n",
       "    .dataframe tbody tr th:only-of-type {\n",
       "        vertical-align: middle;\n",
       "    }\n",
       "\n",
       "    .dataframe tbody tr th {\n",
       "        vertical-align: top;\n",
       "    }\n",
       "\n",
       "    .dataframe thead th {\n",
       "        text-align: right;\n",
       "    }\n",
       "</style>\n",
       "<table border=\"1\" class=\"dataframe\">\n",
       "  <thead>\n",
       "    <tr style=\"text-align: right;\">\n",
       "      <th></th>\n",
       "      <th>date</th>\n",
       "      <th>open</th>\n",
       "      <th>high</th>\n",
       "      <th>low</th>\n",
       "      <th>close</th>\n",
       "      <th>volume</th>\n",
       "      <th>vwap</th>\n",
       "      <th>date_</th>\n",
       "      <th>Log_Return</th>\n",
       "    </tr>\n",
       "  </thead>\n",
       "  <tbody>\n",
       "    <tr>\n",
       "      <th>0</th>\n",
       "      <td>2013-09-01 17:16:00</td>\n",
       "      <td>1640.25</td>\n",
       "      <td>1642.00</td>\n",
       "      <td>1639.00</td>\n",
       "      <td>1640.00</td>\n",
       "      <td>10825</td>\n",
       "      <td>1640.317090</td>\n",
       "      <td>2013-09-01 17:16:00</td>\n",
       "      <td>NaN</td>\n",
       "    </tr>\n",
       "    <tr>\n",
       "      <th>1</th>\n",
       "      <td>2013-09-01 17:44:00</td>\n",
       "      <td>1640.00</td>\n",
       "      <td>1642.00</td>\n",
       "      <td>1639.50</td>\n",
       "      <td>1641.25</td>\n",
       "      <td>7039</td>\n",
       "      <td>1640.837122</td>\n",
       "      <td>2013-09-01 17:44:00</td>\n",
       "      <td>0.000762</td>\n",
       "    </tr>\n",
       "    <tr>\n",
       "      <th>2</th>\n",
       "      <td>2013-09-01 18:12:00</td>\n",
       "      <td>1641.25</td>\n",
       "      <td>1642.00</td>\n",
       "      <td>1640.75</td>\n",
       "      <td>1641.00</td>\n",
       "      <td>3161</td>\n",
       "      <td>1641.457213</td>\n",
       "      <td>2013-09-01 18:12:00</td>\n",
       "      <td>-0.000152</td>\n",
       "    </tr>\n",
       "    <tr>\n",
       "      <th>3</th>\n",
       "      <td>2013-09-01 18:40:00</td>\n",
       "      <td>1641.00</td>\n",
       "      <td>1641.25</td>\n",
       "      <td>1640.50</td>\n",
       "      <td>1640.75</td>\n",
       "      <td>1277</td>\n",
       "      <td>1640.910532</td>\n",
       "      <td>2013-09-01 18:40:00</td>\n",
       "      <td>-0.000152</td>\n",
       "    </tr>\n",
       "    <tr>\n",
       "      <th>4</th>\n",
       "      <td>2013-09-01 19:08:00</td>\n",
       "      <td>1640.75</td>\n",
       "      <td>1640.75</td>\n",
       "      <td>1639.75</td>\n",
       "      <td>1640.25</td>\n",
       "      <td>2093</td>\n",
       "      <td>1640.348065</td>\n",
       "      <td>2013-09-01 19:08:00</td>\n",
       "      <td>-0.000305</td>\n",
       "    </tr>\n",
       "  </tbody>\n",
       "</table>\n",
       "</div>"
      ],
      "text/plain": [
       "                 date     open     high      low    close  volume  \\\n",
       "0 2013-09-01 17:16:00  1640.25  1642.00  1639.00  1640.00   10825   \n",
       "1 2013-09-01 17:44:00  1640.00  1642.00  1639.50  1641.25    7039   \n",
       "2 2013-09-01 18:12:00  1641.25  1642.00  1640.75  1641.00    3161   \n",
       "3 2013-09-01 18:40:00  1641.00  1641.25  1640.50  1640.75    1277   \n",
       "4 2013-09-01 19:08:00  1640.75  1640.75  1639.75  1640.25    2093   \n",
       "\n",
       "          vwap               date_  Log_Return  \n",
       "0  1640.317090 2013-09-01 17:16:00         NaN  \n",
       "1  1640.837122 2013-09-01 17:44:00    0.000762  \n",
       "2  1641.457213 2013-09-01 18:12:00   -0.000152  \n",
       "3  1640.910532 2013-09-01 18:40:00   -0.000152  \n",
       "4  1640.348065 2013-09-01 19:08:00   -0.000305  "
      ]
     },
     "execution_count": 110,
     "metadata": {},
     "output_type": "execute_result"
    }
   ],
   "source": [
    "tb['Log_Return'] = log_return(tb['close'],shift(tb['close'],1))\n",
    "tb.head()"
   ]
  },
  {
   "cell_type": "code",
   "execution_count": 111,
   "metadata": {},
   "outputs": [
    {
     "data": {
      "image/png": "[encoded data removed]",
      "text/plain": [
       "<Figure size 432x288 with 1 Axes>"
      ]
     },
     "metadata": {},
     "output_type": "display_data"
    }
   ],
   "source": [
    "sns.set_style('darkgrid')\n",
    "sns.lineplot(x='date_', y='Log_Return', data=tb)\n",
    "plt.xticks(rotation=30)\n",
    "plt.show()"
   ]
  },
  {
   "cell_type": "code",
   "execution_count": 112,
   "metadata": {},
   "outputs": [
    {
     "data": {
      "text/plain": [
       "(87236.4193828471, 0.0)"
      ]
     },
     "execution_count": 112,
     "metadata": {},
     "output_type": "execute_result"
    }
   ],
   "source": [
    "# Bera-Jarque\n",
    "stats.jarque_bera(np.array(tb['Log_Return'].dropna()))"
   ]
  },
  {
   "cell_type": "code",
   "execution_count": 113,
   "metadata": {},
   "outputs": [
    {
     "data": {
      "text/plain": [
       "16.219245556283887"
      ]
     },
     "execution_count": 113,
     "metadata": {},
     "output_type": "execute_result"
    }
   ],
   "source": [
    "stats.kurtosis(np.array(db['Log_Return'].dropna()))"
   ]
  },
  {
   "cell_type": "code",
   "execution_count": 114,
   "metadata": {},
   "outputs": [
    {
     "data": {
      "text/plain": [
       "53.13433690210999"
      ]
     },
     "execution_count": 114,
     "metadata": {},
     "output_type": "execute_result"
    }
   ],
   "source": [
    "stats.kurtosis(np.array(tb['Log_Return'].dropna()))"
   ]
  },
  {
   "cell_type": "code",
   "execution_count": 57,
   "metadata": {},
   "outputs": [
    {
     "data": {
      "text/plain": [
       "1      0.000762\n",
       "2     -0.000152\n",
       "3     -0.000152\n",
       "4     -0.000305\n",
       "5      0.000914\n",
       "         ...   \n",
       "971   -0.000880\n",
       "972    0.000000\n",
       "973   -0.000587\n",
       "974    0.000440\n",
       "975    0.000147\n",
       "Name: Log_Return, Length: 739, dtype: float64"
      ]
     },
     "execution_count": 57,
     "metadata": {},
     "output_type": "execute_result"
    }
   ],
   "source": [
    "tb['Log_Return'].dropna()"
   ]
  },
  {
   "cell_type": "markdown",
   "metadata": {},
   "source": [
    "Dataset 2"
   ]
  },
  {
   "cell_type": "code",
   "execution_count": 103,
   "metadata": {},
   "outputs": [
    {
     "data": {
      "text/html": [
       "<div>\n",
       "<style scoped>\n",
       "    .dataframe tbody tr th:only-of-type {\n",
       "        vertical-align: middle;\n",
       "    }\n",
       "\n",
       "    .dataframe tbody tr th {\n",
       "        vertical-align: top;\n",
       "    }\n",
       "\n",
       "    .dataframe thead th {\n",
       "        text-align: right;\n",
       "    }\n",
       "</style>\n",
       "<table border=\"1\" class=\"dataframe\">\n",
       "  <thead>\n",
       "    <tr style=\"text-align: right;\">\n",
       "      <th></th>\n",
       "      <th>date</th>\n",
       "      <th>open</th>\n",
       "      <th>high</th>\n",
       "      <th>low</th>\n",
       "      <th>close</th>\n",
       "      <th>volume</th>\n",
       "      <th>vwap</th>\n",
       "      <th>date_</th>\n",
       "    </tr>\n",
       "  </thead>\n",
       "  <tbody>\n",
       "    <tr>\n",
       "      <th>0</th>\n",
       "      <td>2013-09-01 21:02:35.415</td>\n",
       "      <td>1640.25</td>\n",
       "      <td>1643.50</td>\n",
       "      <td>1639.00</td>\n",
       "      <td>1642.25</td>\n",
       "      <td>39914.0</td>\n",
       "      <td>1641.234285</td>\n",
       "      <td>2013-09-01 21:02:35.415</td>\n",
       "    </tr>\n",
       "    <tr>\n",
       "      <th>1</th>\n",
       "      <td>2013-09-02 02:37:13.790</td>\n",
       "      <td>1642.25</td>\n",
       "      <td>1646.00</td>\n",
       "      <td>1640.25</td>\n",
       "      <td>1645.75</td>\n",
       "      <td>40020.0</td>\n",
       "      <td>1643.457284</td>\n",
       "      <td>2013-09-02 02:37:13.790</td>\n",
       "    </tr>\n",
       "    <tr>\n",
       "      <th>2</th>\n",
       "      <td>2013-09-02 05:49:06.326</td>\n",
       "      <td>1645.75</td>\n",
       "      <td>1647.25</td>\n",
       "      <td>1643.75</td>\n",
       "      <td>1646.75</td>\n",
       "      <td>39877.0</td>\n",
       "      <td>1645.874082</td>\n",
       "      <td>2013-09-02 05:49:06.326</td>\n",
       "    </tr>\n",
       "    <tr>\n",
       "      <th>3</th>\n",
       "      <td>2013-09-02 08:35:44.522</td>\n",
       "      <td>1646.75</td>\n",
       "      <td>1648.50</td>\n",
       "      <td>1645.50</td>\n",
       "      <td>1645.50</td>\n",
       "      <td>39858.0</td>\n",
       "      <td>1647.213589</td>\n",
       "      <td>2013-09-02 08:35:44.522</td>\n",
       "    </tr>\n",
       "    <tr>\n",
       "      <th>4</th>\n",
       "      <td>2013-09-02 19:34:33.615</td>\n",
       "      <td>1645.50</td>\n",
       "      <td>1648.50</td>\n",
       "      <td>1645.25</td>\n",
       "      <td>1646.75</td>\n",
       "      <td>39861.0</td>\n",
       "      <td>1646.894991</td>\n",
       "      <td>2013-09-02 19:34:33.615</td>\n",
       "    </tr>\n",
       "  </tbody>\n",
       "</table>\n",
       "</div>"
      ],
      "text/plain": [
       "                     date     open     high      low    close   volume  \\\n",
       "0 2013-09-01 21:02:35.415  1640.25  1643.50  1639.00  1642.25  39914.0   \n",
       "1 2013-09-02 02:37:13.790  1642.25  1646.00  1640.25  1645.75  40020.0   \n",
       "2 2013-09-02 05:49:06.326  1645.75  1647.25  1643.75  1646.75  39877.0   \n",
       "3 2013-09-02 08:35:44.522  1646.75  1648.50  1645.50  1645.50  39858.0   \n",
       "4 2013-09-02 19:34:33.615  1645.50  1648.50  1645.25  1646.75  39861.0   \n",
       "\n",
       "          vwap                   date_  \n",
       "0  1641.234285 2013-09-01 21:02:35.415  \n",
       "1  1643.457284 2013-09-02 02:37:13.790  \n",
       "2  1645.874082 2013-09-02 05:49:06.326  \n",
       "3  1647.213589 2013-09-02 08:35:44.522  \n",
       "4  1646.894991 2013-09-02 19:34:33.615  "
      ]
     },
     "execution_count": 103,
     "metadata": {},
     "output_type": "execute_result"
    }
   ],
   "source": [
    "# import data\n",
    "db_2 = pd.read_csv(\"./Data_2/dollar_bars.csv\", delimiter=',')\n",
    "db_2['date'] = pd.to_datetime(db_2['date'], format=\"%m/%d/%Y %H:%M:%S.%f\")\n",
    "db_2['date_'] = db_2['date']\n",
    "db_2.head()"
   ]
  },
  {
   "cell_type": "code",
   "execution_count": 104,
   "metadata": {},
   "outputs": [
    {
     "data": {
      "text/html": [
       "<div>\n",
       "<style scoped>\n",
       "    .dataframe tbody tr th:only-of-type {\n",
       "        vertical-align: middle;\n",
       "    }\n",
       "\n",
       "    .dataframe tbody tr th {\n",
       "        vertical-align: top;\n",
       "    }\n",
       "\n",
       "    .dataframe thead th {\n",
       "        text-align: right;\n",
       "    }\n",
       "</style>\n",
       "<table border=\"1\" class=\"dataframe\">\n",
       "  <thead>\n",
       "    <tr style=\"text-align: right;\">\n",
       "      <th></th>\n",
       "      <th>date</th>\n",
       "      <th>open</th>\n",
       "      <th>high</th>\n",
       "      <th>low</th>\n",
       "      <th>close</th>\n",
       "      <th>volume</th>\n",
       "      <th>vwap</th>\n",
       "      <th>date_</th>\n",
       "      <th>Log_Return</th>\n",
       "    </tr>\n",
       "  </thead>\n",
       "  <tbody>\n",
       "    <tr>\n",
       "      <th>0</th>\n",
       "      <td>2013-09-01 21:02:35.415</td>\n",
       "      <td>1640.25</td>\n",
       "      <td>1643.50</td>\n",
       "      <td>1639.00</td>\n",
       "      <td>1642.25</td>\n",
       "      <td>39914.0</td>\n",
       "      <td>1641.234285</td>\n",
       "      <td>2013-09-01 21:02:35.415</td>\n",
       "      <td>NaN</td>\n",
       "    </tr>\n",
       "    <tr>\n",
       "      <th>1</th>\n",
       "      <td>2013-09-02 02:37:13.790</td>\n",
       "      <td>1642.25</td>\n",
       "      <td>1646.00</td>\n",
       "      <td>1640.25</td>\n",
       "      <td>1645.75</td>\n",
       "      <td>40020.0</td>\n",
       "      <td>1643.457284</td>\n",
       "      <td>2013-09-02 02:37:13.790</td>\n",
       "      <td>0.002129</td>\n",
       "    </tr>\n",
       "    <tr>\n",
       "      <th>2</th>\n",
       "      <td>2013-09-02 05:49:06.326</td>\n",
       "      <td>1645.75</td>\n",
       "      <td>1647.25</td>\n",
       "      <td>1643.75</td>\n",
       "      <td>1646.75</td>\n",
       "      <td>39877.0</td>\n",
       "      <td>1645.874082</td>\n",
       "      <td>2013-09-02 05:49:06.326</td>\n",
       "      <td>0.000607</td>\n",
       "    </tr>\n",
       "    <tr>\n",
       "      <th>3</th>\n",
       "      <td>2013-09-02 08:35:44.522</td>\n",
       "      <td>1646.75</td>\n",
       "      <td>1648.50</td>\n",
       "      <td>1645.50</td>\n",
       "      <td>1645.50</td>\n",
       "      <td>39858.0</td>\n",
       "      <td>1647.213589</td>\n",
       "      <td>2013-09-02 08:35:44.522</td>\n",
       "      <td>-0.000759</td>\n",
       "    </tr>\n",
       "    <tr>\n",
       "      <th>4</th>\n",
       "      <td>2013-09-02 19:34:33.615</td>\n",
       "      <td>1645.50</td>\n",
       "      <td>1648.50</td>\n",
       "      <td>1645.25</td>\n",
       "      <td>1646.75</td>\n",
       "      <td>39861.0</td>\n",
       "      <td>1646.894991</td>\n",
       "      <td>2013-09-02 19:34:33.615</td>\n",
       "      <td>0.000759</td>\n",
       "    </tr>\n",
       "  </tbody>\n",
       "</table>\n",
       "</div>"
      ],
      "text/plain": [
       "                     date     open     high      low    close   volume  \\\n",
       "0 2013-09-01 21:02:35.415  1640.25  1643.50  1639.00  1642.25  39914.0   \n",
       "1 2013-09-02 02:37:13.790  1642.25  1646.00  1640.25  1645.75  40020.0   \n",
       "2 2013-09-02 05:49:06.326  1645.75  1647.25  1643.75  1646.75  39877.0   \n",
       "3 2013-09-02 08:35:44.522  1646.75  1648.50  1645.50  1645.50  39858.0   \n",
       "4 2013-09-02 19:34:33.615  1645.50  1648.50  1645.25  1646.75  39861.0   \n",
       "\n",
       "          vwap                   date_  Log_Return  \n",
       "0  1641.234285 2013-09-01 21:02:35.415         NaN  \n",
       "1  1643.457284 2013-09-02 02:37:13.790    0.002129  \n",
       "2  1645.874082 2013-09-02 05:49:06.326    0.000607  \n",
       "3  1647.213589 2013-09-02 08:35:44.522   -0.000759  \n",
       "4  1646.894991 2013-09-02 19:34:33.615    0.000759  "
      ]
     },
     "execution_count": 104,
     "metadata": {},
     "output_type": "execute_result"
    }
   ],
   "source": [
    "db_2['Log_Return'] = log_return(db_2['close'],shift(db_2['close'],1))\n",
    "db_2.head()"
   ]
  },
  {
   "cell_type": "code",
   "execution_count": 105,
   "metadata": {},
   "outputs": [
    {
     "data": {
      "text/plain": [
       "(3184.268082714994, 0.0)"
      ]
     },
     "execution_count": 105,
     "metadata": {},
     "output_type": "execute_result"
    }
   ],
   "source": [
    "stats.jarque_bera(np.array(db_2['Log_Return'].dropna()))"
   ]
  },
  {
   "cell_type": "code",
   "execution_count": 106,
   "metadata": {},
   "outputs": [
    {
     "data": {
      "text/plain": [
       "11.481248010946716"
      ]
     },
     "execution_count": 106,
     "metadata": {},
     "output_type": "execute_result"
    }
   ],
   "source": [
    "stats.kurtosis(np.array(db_2['Log_Return'].dropna()))"
   ]
  },
  {
   "cell_type": "code",
   "execution_count": 115,
   "metadata": {},
   "outputs": [
    {
     "data": {
      "text/html": [
       "<div>\n",
       "<style scoped>\n",
       "    .dataframe tbody tr th:only-of-type {\n",
       "        vertical-align: middle;\n",
       "    }\n",
       "\n",
       "    .dataframe tbody tr th {\n",
       "        vertical-align: top;\n",
       "    }\n",
       "\n",
       "    .dataframe thead th {\n",
       "        text-align: right;\n",
       "    }\n",
       "</style>\n",
       "<table border=\"1\" class=\"dataframe\">\n",
       "  <thead>\n",
       "    <tr style=\"text-align: right;\">\n",
       "      <th></th>\n",
       "      <th>date</th>\n",
       "      <th>open</th>\n",
       "      <th>high</th>\n",
       "      <th>low</th>\n",
       "      <th>close</th>\n",
       "      <th>volume</th>\n",
       "      <th>vwap</th>\n",
       "      <th>date_</th>\n",
       "    </tr>\n",
       "  </thead>\n",
       "  <tbody>\n",
       "    <tr>\n",
       "      <th>0</th>\n",
       "      <td>2013-09-01 18:00:00</td>\n",
       "      <td>1640.25</td>\n",
       "      <td>1642.00</td>\n",
       "      <td>1639.00</td>\n",
       "      <td>1641.75</td>\n",
       "      <td>19792</td>\n",
       "      <td>1640.626604</td>\n",
       "      <td>2013-09-01 18:00:00</td>\n",
       "    </tr>\n",
       "    <tr>\n",
       "      <th>1</th>\n",
       "      <td>2013-09-01 19:00:00</td>\n",
       "      <td>1641.50</td>\n",
       "      <td>1641.75</td>\n",
       "      <td>1640.00</td>\n",
       "      <td>1640.50</td>\n",
       "      <td>3695</td>\n",
       "      <td>1640.856157</td>\n",
       "      <td>2013-09-01 19:00:00</td>\n",
       "    </tr>\n",
       "    <tr>\n",
       "      <th>2</th>\n",
       "      <td>2013-09-01 20:00:00</td>\n",
       "      <td>1640.25</td>\n",
       "      <td>1643.50</td>\n",
       "      <td>1639.75</td>\n",
       "      <td>1642.50</td>\n",
       "      <td>10705</td>\n",
       "      <td>1641.928538</td>\n",
       "      <td>2013-09-01 20:00:00</td>\n",
       "    </tr>\n",
       "    <tr>\n",
       "      <th>3</th>\n",
       "      <td>2013-09-01 21:00:00</td>\n",
       "      <td>1642.50</td>\n",
       "      <td>1642.75</td>\n",
       "      <td>1641.75</td>\n",
       "      <td>1642.75</td>\n",
       "      <td>5479</td>\n",
       "      <td>1642.275370</td>\n",
       "      <td>2013-09-01 21:00:00</td>\n",
       "    </tr>\n",
       "    <tr>\n",
       "      <th>4</th>\n",
       "      <td>2013-09-01 22:00:00</td>\n",
       "      <td>1642.50</td>\n",
       "      <td>1642.75</td>\n",
       "      <td>1640.25</td>\n",
       "      <td>1641.00</td>\n",
       "      <td>4389</td>\n",
       "      <td>1641.380497</td>\n",
       "      <td>2013-09-01 22:00:00</td>\n",
       "    </tr>\n",
       "  </tbody>\n",
       "</table>\n",
       "</div>"
      ],
      "text/plain": [
       "                 date     open     high      low    close  volume  \\\n",
       "0 2013-09-01 18:00:00  1640.25  1642.00  1639.00  1641.75   19792   \n",
       "1 2013-09-01 19:00:00  1641.50  1641.75  1640.00  1640.50    3695   \n",
       "2 2013-09-01 20:00:00  1640.25  1643.50  1639.75  1642.50   10705   \n",
       "3 2013-09-01 21:00:00  1642.50  1642.75  1641.75  1642.75    5479   \n",
       "4 2013-09-01 22:00:00  1642.50  1642.75  1640.25  1641.00    4389   \n",
       "\n",
       "          vwap               date_  \n",
       "0  1640.626604 2013-09-01 18:00:00  \n",
       "1  1640.856157 2013-09-01 19:00:00  \n",
       "2  1641.928538 2013-09-01 20:00:00  \n",
       "3  1642.275370 2013-09-01 21:00:00  \n",
       "4  1641.380497 2013-09-01 22:00:00  "
      ]
     },
     "execution_count": 115,
     "metadata": {},
     "output_type": "execute_result"
    }
   ],
   "source": [
    "# import data\n",
    "tb_2 = pd.read_csv(\"./Data_2/time_bars.csv\", delimiter=',')\n",
    "tb_2['date'] = pd.to_datetime(tb_2['date'], format=\"%Y-%m-%d %H:%M:%S\")\n",
    "tb_2['date_'] = tb_2['date']\n",
    "tb_2.head()"
   ]
  },
  {
   "cell_type": "code",
   "execution_count": 116,
   "metadata": {},
   "outputs": [
    {
     "data": {
      "text/html": [
       "<div>\n",
       "<style scoped>\n",
       "    .dataframe tbody tr th:only-of-type {\n",
       "        vertical-align: middle;\n",
       "    }\n",
       "\n",
       "    .dataframe tbody tr th {\n",
       "        vertical-align: top;\n",
       "    }\n",
       "\n",
       "    .dataframe thead th {\n",
       "        text-align: right;\n",
       "    }\n",
       "</style>\n",
       "<table border=\"1\" class=\"dataframe\">\n",
       "  <thead>\n",
       "    <tr style=\"text-align: right;\">\n",
       "      <th></th>\n",
       "      <th>date</th>\n",
       "      <th>open</th>\n",
       "      <th>high</th>\n",
       "      <th>low</th>\n",
       "      <th>close</th>\n",
       "      <th>volume</th>\n",
       "      <th>vwap</th>\n",
       "      <th>date_</th>\n",
       "      <th>Log_Return</th>\n",
       "    </tr>\n",
       "  </thead>\n",
       "  <tbody>\n",
       "    <tr>\n",
       "      <th>0</th>\n",
       "      <td>2013-09-01 18:00:00</td>\n",
       "      <td>1640.25</td>\n",
       "      <td>1642.00</td>\n",
       "      <td>1639.00</td>\n",
       "      <td>1641.75</td>\n",
       "      <td>19792</td>\n",
       "      <td>1640.626604</td>\n",
       "      <td>2013-09-01 18:00:00</td>\n",
       "      <td>NaN</td>\n",
       "    </tr>\n",
       "    <tr>\n",
       "      <th>1</th>\n",
       "      <td>2013-09-01 19:00:00</td>\n",
       "      <td>1641.50</td>\n",
       "      <td>1641.75</td>\n",
       "      <td>1640.00</td>\n",
       "      <td>1640.50</td>\n",
       "      <td>3695</td>\n",
       "      <td>1640.856157</td>\n",
       "      <td>2013-09-01 19:00:00</td>\n",
       "      <td>-0.000762</td>\n",
       "    </tr>\n",
       "    <tr>\n",
       "      <th>2</th>\n",
       "      <td>2013-09-01 20:00:00</td>\n",
       "      <td>1640.25</td>\n",
       "      <td>1643.50</td>\n",
       "      <td>1639.75</td>\n",
       "      <td>1642.50</td>\n",
       "      <td>10705</td>\n",
       "      <td>1641.928538</td>\n",
       "      <td>2013-09-01 20:00:00</td>\n",
       "      <td>0.001218</td>\n",
       "    </tr>\n",
       "    <tr>\n",
       "      <th>3</th>\n",
       "      <td>2013-09-01 21:00:00</td>\n",
       "      <td>1642.50</td>\n",
       "      <td>1642.75</td>\n",
       "      <td>1641.75</td>\n",
       "      <td>1642.75</td>\n",
       "      <td>5479</td>\n",
       "      <td>1642.275370</td>\n",
       "      <td>2013-09-01 21:00:00</td>\n",
       "      <td>0.000152</td>\n",
       "    </tr>\n",
       "    <tr>\n",
       "      <th>4</th>\n",
       "      <td>2013-09-01 22:00:00</td>\n",
       "      <td>1642.50</td>\n",
       "      <td>1642.75</td>\n",
       "      <td>1640.25</td>\n",
       "      <td>1641.00</td>\n",
       "      <td>4389</td>\n",
       "      <td>1641.380497</td>\n",
       "      <td>2013-09-01 22:00:00</td>\n",
       "      <td>-0.001066</td>\n",
       "    </tr>\n",
       "  </tbody>\n",
       "</table>\n",
       "</div>"
      ],
      "text/plain": [
       "                 date     open     high      low    close  volume  \\\n",
       "0 2013-09-01 18:00:00  1640.25  1642.00  1639.00  1641.75   19792   \n",
       "1 2013-09-01 19:00:00  1641.50  1641.75  1640.00  1640.50    3695   \n",
       "2 2013-09-01 20:00:00  1640.25  1643.50  1639.75  1642.50   10705   \n",
       "3 2013-09-01 21:00:00  1642.50  1642.75  1641.75  1642.75    5479   \n",
       "4 2013-09-01 22:00:00  1642.50  1642.75  1640.25  1641.00    4389   \n",
       "\n",
       "          vwap               date_  Log_Return  \n",
       "0  1640.626604 2013-09-01 18:00:00         NaN  \n",
       "1  1640.856157 2013-09-01 19:00:00   -0.000762  \n",
       "2  1641.928538 2013-09-01 20:00:00    0.001218  \n",
       "3  1642.275370 2013-09-01 21:00:00    0.000152  \n",
       "4  1641.380497 2013-09-01 22:00:00   -0.001066  "
      ]
     },
     "execution_count": 116,
     "metadata": {},
     "output_type": "execute_result"
    }
   ],
   "source": [
    "tb_2['Log_Return'] = log_return(tb_2['close'],shift(tb_2['close'],1))\n",
    "tb_2.head()"
   ]
  },
  {
   "cell_type": "code",
   "execution_count": 117,
   "metadata": {},
   "outputs": [
    {
     "data": {
      "text/plain": [
       "(24655.268046504934, 0.0)"
      ]
     },
     "execution_count": 117,
     "metadata": {},
     "output_type": "execute_result"
    }
   ],
   "source": [
    "stats.jarque_bera(np.array(tb_2['Log_Return'].dropna()))"
   ]
  },
  {
   "cell_type": "code",
   "execution_count": 118,
   "metadata": {},
   "outputs": [
    {
     "data": {
      "text/plain": [
       "40.817869631399425"
      ]
     },
     "execution_count": 118,
     "metadata": {},
     "output_type": "execute_result"
    }
   ],
   "source": [
    "stats.kurtosis(np.array(tb_2['Log_Return'].dropna()))"
   ]
  },
  {
   "cell_type": "code",
   "execution_count": null,
   "metadata": {},
   "outputs": [],
   "source": []
  }
 ],
 "metadata": {
  "kernelspec": {
   "display_name": "Python 3",
   "language": "python",
   "name": "python3"
  },
  "language_info": {
   "codemirror_mode": {
    "name": "ipython",
    "version": 3
   },
   "file_extension": ".py",
   "mimetype": "text/x-python",
   "name": "python",
   "nbconvert_exporter": "python",
   "pygments_lexer": "ipython3",
   "version": "3.6.10"
  }
 },
 "nbformat": 4,
 "nbformat_minor": 4
}
