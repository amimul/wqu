{
 "cells": [
  {
   "cell_type": "markdown",
   "metadata": {},
   "source": [
    "# Peer Review Assignment 3\n",
    "\n",
    "### Name: \n",
    "\n",
    "### Date: \n"
   ]
  },
  {
   "cell_type": "markdown",
   "metadata": {},
   "source": [
    "# Instructions\n",
    "\n",
    "* Work through the notebook, answer all questions, and do all problems\n",
    "* You are allowed to consult the internet, and discuss on the module forum\n",
    "* Your answers and solutions to the problems should be added to this notebook \n",
    "* Submit your final work as an html file\n",
    "* Note that the solutions to the problems used python version 3.6.4.  \n",
    "\n",
    "# Marking Scheme (Theoretical Questions)\n",
    "\n",
    "* All questions are marked out of 3.\n",
    "\n",
    "* No valid answer: 0 marks\n",
    "\n",
    "* Demonstration of grasp of basic idea: 1 mark\n",
    "\n",
    "* 'Perfect' answer: 3 marks\n",
    "\n",
    "# Marking Scheme (Practical Problems)\n",
    "\n",
    "* All problems are marked out of 5.\n",
    "\n",
    "* No valid answer: 0 marks\n",
    "\n",
    "* Demonstration of grasp of basic idea: 2 mark\n",
    "\n",
    "* Working code: 5 marks"
   ]
  },
  {
   "cell_type": "markdown",
   "metadata": {},
   "source": [
    "# Linear Discriminant Analysis (LDA)\n",
    "\n",
    "The PCA encountered in the previous exercise can be viewed as a dimensionality reduction scheme, projecting onto the directions with maximal variance.\n",
    "\n",
    "LDA is also a dimensionality reduction scheme but operates on a very different principle. Now we are given data that belongs to different classes. We are given both the data value $x$ and a class label $y$ If we have $k$ classes then $y$ will take on $k$ labels, in Python typicall the values 0 through $k-1$. \n",
    "\n",
    "The idea is to project the data onto a lower dimensional space in such a way that maximal *class separation* is achieved in the lower dimensional space.\n",
    "\n",
    "You can learn more about the scikit-learn implementation at http://scikit-learn.org/stable/modules/generated/sklearn.lda.LDA.html\n",
    "\n",
    "You will investigate the difference between  PCA using the wine data set, for more information see  http://archive.ics.uci.edu/ml/datasets/Wine Since the wine dataset is 13 dimensional the difference between PCA and LDA is more pronounced than say, with the Iris data set. \n",
    "\n",
    "We project down to 2 dimensions for easy visualization. In fact, since there are only 3 classes, one does not retain any more information by using higher dimensions.\n"
   ]
  },
  {
   "cell_type": "markdown",
   "metadata": {},
   "source": [
    "### Import packages"
   ]
  },
  {
   "cell_type": "code",
   "execution_count": 1,
   "metadata": {},
   "outputs": [],
   "source": [
    "%matplotlib inline\n",
    "%load_ext autoreload\n",
    "%autoreload 2\n",
    "\n",
    "import numpy as np\n",
    "from matplotlib import pylab as plt\n",
    "from sklearn.decomposition import PCA\n",
    "from sklearn.discriminant_analysis import LinearDiscriminantAnalysis as LDA\n",
    "\n",
    "# Import different modules for using with the notebook\n",
    "from IPython.display import display\n",
    "from IPython.display import Image"
   ]
  },
  {
   "cell_type": "markdown",
   "metadata": {},
   "source": [
    "### Simple example\n",
    "\n",
    "As a warmup run the example from the scikit-learn website."
   ]
  },
  {
   "cell_type": "code",
   "execution_count": 2,
   "metadata": {},
   "outputs": [
    {
     "name": "stdout",
     "output_type": "stream",
     "text": [
      "[1]\n"
     ]
    }
   ],
   "source": [
    "# Create synthetic data\n",
    "X = np.array([[-1, -1], [-2, -1], [-3, -2], [1, 1], [2, 1], [3, 2]])\n",
    "y = np.array([1, 1, 1, 2, 2, 2])\n",
    "\n",
    "# Instantiate & fit the model: LDA\n",
    "clf = LDA()\n",
    "clf.fit(X, y)\n",
    "\n",
    "print(clf.predict([[-0.8, -1]]))"
   ]
  },
  {
   "cell_type": "markdown",
   "metadata": {},
   "source": [
    "### Loading the data\n",
    "\n",
    "Read the data, extract the class labels from the last column, then extract the names of the classes using the convenient `set` function in Python. \n"
   ]
  },
  {
   "cell_type": "code",
   "execution_count": 3,
   "metadata": {},
   "outputs": [],
   "source": [
    "# import training data\n",
    "wine_train = np.loadtxt('./data/wine/wine_train.txt',delimiter = ',')\n",
    "wine_train_labels = wine_train[:,-1]\n",
    "wine_train_classes = list(set(wine_train_labels))\n",
    "wine_train_classes = np.array(wine_train_classes, dtype=int)\n",
    "wine_train_labels = np.array(wine_train_labels, dtype = int)\n",
    "wine_train = wine_train[:,:-1]\n",
    "\n",
    "# import testing data\n",
    "wine_test = np.loadtxt('./data/wine/wine_test.txt', delimiter = ',')\n",
    "wine_test_labels = wine_test[:,-1]\n",
    "wine_test_classes = list(set(wine_test_labels))\n",
    "wine_test_classes = np.array(wine_test_classes, dtype=int)\n",
    "wine_test_labels = np.array(wine_test_labels, dtype = int)\n",
    "wine_test = wine_test[:, :-1]"
   ]
  },
  {
   "cell_type": "markdown",
   "metadata": {},
   "source": [
    "### PCA\n",
    "\n",
    "Problem 1: (**5 marks**)\n",
    "\n",
    "Project the data onto 2 PCA components and display the classes of the dimension-reduced data.\n",
    "\n",
    "You should see something like:"
   ]
  },
  {
   "cell_type": "code",
   "execution_count": 4,
   "metadata": {},
   "outputs": [],
   "source": [
    "# Insert code to produce the image below\n"
   ]
  },
  {
   "cell_type": "code",
   "execution_count": 5,
   "metadata": {},
   "outputs": [
    {
     "data": {
      "image/png": "[encoded data removed]",
      "text/plain": [
       "<IPython.core.display.Image object>"
      ]
     },
     "metadata": {},
     "output_type": "display_data"
    }
   ],
   "source": [
    "display(Image(filename='./Wine_PCA.png'))"
   ]
  },
  {
   "cell_type": "markdown",
   "metadata": {},
   "source": [
    "### LDA\n",
    "\n",
    "Problem 2:(**5 marks**)\n",
    "\n",
    "Fit an LDA model to the data, using 2 components and display the different classes of the projected data.\n",
    "\n",
    "You should see: "
   ]
  },
  {
   "cell_type": "code",
   "execution_count": 6,
   "metadata": {},
   "outputs": [],
   "source": [
    "# Insert code to produce the image below\n"
   ]
  },
  {
   "cell_type": "code",
   "execution_count": 7,
   "metadata": {},
   "outputs": [
    {
     "data": {
      "image/png": "[encoded data removed]",
      "text/plain": [
       "<IPython.core.display.Image object>"
      ]
     },
     "metadata": {},
     "output_type": "display_data"
    }
   ],
   "source": [
    "display(Image(filename='./LDA_pr.png'))"
   ]
  },
  {
   "cell_type": "markdown",
   "metadata": {},
   "source": [
    "There should be no doubt that the LDA projection is much better at preserving the class structure."
   ]
  }
 ],
 "metadata": {
  "kernelspec": {
   "display_name": "Python 3",
   "language": "python",
   "name": "python3"
  },
  "language_info": {
   "codemirror_mode": {
    "name": "ipython",
    "version": 3
   },
   "file_extension": ".py",
   "mimetype": "text/x-python",
   "name": "python",
   "nbconvert_exporter": "python",
   "pygments_lexer": "ipython3",
   "version": "3.6.5"
  }
 },
 "nbformat": 4,
 "nbformat_minor": 2
}
