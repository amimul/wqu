{
 "cells": [
  {
   "cell_type": "code",
   "execution_count": 1,
   "metadata": {},
   "outputs": [],
   "source": [
    "%load -y test.py"
   ]
  },
  {
   "cell_type": "code",
   "execution_count": 2,
   "metadata": {},
   "outputs": [],
   "source": [
    "# %load -y test.py\n",
    "\n",
    "#%%\n",
    "import sys\n",
    "sys.path.append('/home/haininhhoang94/Projects/wqu/MScFE650/GWA1/')"
   ]
  },
  {
   "cell_type": "code",
   "execution_count": 3,
   "metadata": {},
   "outputs": [],
   "source": [
    "%load -y test.py"
   ]
  },
  {
   "cell_type": "code",
   "execution_count": 4,
   "metadata": {},
   "outputs": [],
   "source": [
    "# %load -y test.py\n",
    "\n",
    "#%%\n",
    "import sys\n",
    "sys.path.append('/home/haininhhoang94/Projects/wqu/MScFE650/GWA1/')\n",
    "#%%\n",
    "import numpy as np\n",
    "import pandas as pd\n",
    "import scipy.stats as stats\n",
    "import matplotlib.pyplot as plt\n",
    "import datetime\n",
    "import statsmodels.formula.api as smf\n",
    "import statsmodels.stats.api as sms\n",
    "import statsmodels.api as sm\n",
    "import seaborn as sns\n",
    "from scipy import stats\n",
    "\n",
    "#%%\n",
    "# Import data\n",
    "aal = pd.read_csv(\"~/Projects/wqu/MScFE650/GWA1/RawData/AAL.csv\", delimiter=',')\n",
    "aal['Date'] = pd.to_datetime(aal['Date'], format=\"%d/%m/%Y\")\n",
    "aal['Date_'] = aal['Date']\n",
    "#  aal.set_index('Date', inplace=True)\n",
    "\n",
    "#%%\n",
    "sns.set_style('darkgrid')\n",
    "sns.lineplot(x='Date_', y='AdjClose', data=aal)\n",
    "plt.xticks(rotation=30)\n",
    "plt.show()\n",
    "#  aal['AdjClose'].plot(figsize=(16/12))"
   ]
  },
  {
   "cell_type": "code",
   "execution_count": 5,
   "metadata": {},
   "outputs": [],
   "source": [
    "clear"
   ]
  },
  {
   "cell_type": "code",
   "execution_count": 6,
   "metadata": {},
   "outputs": [],
   "source": [
    "%notebook save -e test.ipynb"
   ]
  }
 ],
 "metadata": {},
 "nbformat": 4,
 "nbformat_minor": 4
}
