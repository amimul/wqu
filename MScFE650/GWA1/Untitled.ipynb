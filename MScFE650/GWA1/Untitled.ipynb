{
 "cells": [
  {
   "cell_type": "code",
   "execution_count": 1,
   "metadata": {},
   "outputs": [],
   "source": [
    "import sys"
   ]
  },
  {
   "cell_type": "code",
   "execution_count": 2,
   "metadata": {},
   "outputs": [
    {
     "data": {
      "text/plain": [
       "['/home/haininhhoang94/anaconda3/envs/pyds/lib/python36.zip',\n",
       " '/home/haininhhoang94/anaconda3/envs/pyds/lib/python3.6',\n",
       " '/home/haininhhoang94/anaconda3/envs/pyds/lib/python3.6/lib-dynload',\n",
       " '',\n",
       " '/home/haininhhoang94/anaconda3/envs/pyds/lib/python3.6/site-packages',\n",
       " '/home/haininhhoang94/anaconda3/envs/pyds/lib/python3.6/site-packages/IPython/extensions',\n",
       " '/home/haininhhoang94/.ipython']"
      ]
     },
     "execution_count": 2,
     "metadata": {},
     "output_type": "execute_result"
    }
   ],
   "source": [
    "sys.path"
   ]
  },
  {
   "cell_type": "code",
   "execution_count": null,
   "metadata": {},
   "outputs": [],
   "source": []
  }
 ],
 "metadata": {
  "kernelspec": {
   "display_name": "Python 3",
   "language": "python",
   "name": "python3"
  },
  "language_info": {
   "codemirror_mode": {
    "name": "ipython",
    "version": 3
   },
   "file_extension": ".py",
   "mimetype": "text/x-python",
   "name": "python",
   "nbconvert_exporter": "python",
   "pygments_lexer": "ipython3",
   "version": "3.6.10"
  }
 },
 "nbformat": 4,
 "nbformat_minor": 4
}
