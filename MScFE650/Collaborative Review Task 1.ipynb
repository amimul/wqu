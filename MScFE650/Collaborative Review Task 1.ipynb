{
 "cells": [
  {
   "cell_type": "markdown",
   "metadata": {},
   "source": [
    "# Collaborative Review Task 1"
   ]
  },
  {
   "cell_type": "markdown",
   "metadata": {},
   "source": [
    "## 1. Explain briefly linear regression and its importance in finance (max 400 words).  \n",
    "Let's test our data\n",
    "\n",
    "Now\n",
    "\n",
    "Linear Regression is a form of regression analysis. The variables in linear regressions two parts: dependent variable (Y) and independent variables (X) where:\n",
    "\n",
    "$$Y = aX + b$$\n",
    "\n",
    "$a$: coefficient\n",
    "\n",
    "$b:$ intercept\n",
    "\n",
    "There are two main practical usages of linear regression: forecast and dependency explanation.\n",
    "    \n",
    "**Forecast:**\n",
    "Once we built the model, we can use it to predict the value of dependent variable using the new set of independent variables.\n",
    "\n",
    "**Dependency Explanation:**\n",
    "Once we fitted the data to the model, we can analyze the dependence significance using the magnitude of the coefficents.\n",
    "\n",
    "**Application in Finance:**\n",
    "Most of the data in finance are time-series. The time-series data are special and very prone to be over fitted. Linear regression is a simply technique that robust to overfitting, therefore it was used extensively in Finance. Moreover, linear regression model is explainable (the significance based on the magnitude of the coefficients) and not a Black-Box model (Ex: Neural Network) For example, there famous model: Capital Assets Pricing Model (CAPM),Fama French- 3 factors,  Carthart-4 factors model are all based on Linear Regression.\n"
   ]
  },
  {
   "cell_type": "markdown",
   "metadata": {},
   "source": [
    "## 2. \n",
    "\n",
    "$E = \\frac{1}{N} \\sum_{n =1}^N (mx_n  +b -y_n)^2$\n",
    "\n",
    "Write down the equations:\n",
    "\n",
    "$\\frac{\\partial E}{\\partial m} = \\frac{2}{N}\\sum_{i=1}^N (mx_n +b -y_n) x_n = \\frac{2}{N}\\sum_{i=1}^N (mx_n^2 +bx_n -y_n x_n)$\n",
    "\n",
    "\n",
    "$\\frac{\\partial E}{\\partial b} = \\frac{2}{N}\\sum_{i=1}^N (mx_n +b -y_n)$\n"
   ]
  },
  {
   "cell_type": "markdown",
   "metadata": {},
   "source": [
    "## 3.Implement a linear regression in Python using simulated data. Any module can be used in the assignment. "
   ]
  },
  {
   "cell_type": "code",
   "execution_count": 1,
   "metadata": {},
   "outputs": [],
   "source": [
    "#from sklearn import\n",
    "import numpy as np\n",
    "import matplotlib.pyplot as plt\n",
    "from scipy.stats import linregress\n",
    "import \n",
    "%matplotlib inline"
   ]
  },
  {
   "cell_type": "markdown",
   "metadata": {},
   "source": [
    "Simulating data"
   ]
  },
  {
   "cell_type": "code",
   "execution_count": 2,
   "metadata": {},
   "outputs": [],
   "source": [
    "# Define seed number\n",
    "np.random.seed(0)\n",
    "\n",
    "# Create list of x values from 1 to 51\n",
    "X = np.array([i for i in range(1,51)])\n",
    "\n",
    "# Create random numbers for noise (normal distribution with mean = 2, standard deviation = 5)\n",
    "noise = np.random.normal(size =50, loc = 2, scale = 5)\n",
    "\n",
    "# Let y = ax + b\n",
    "y = 2*X + noise"
   ]
  },
  {
   "cell_type": "markdown",
   "metadata": {},
   "source": [
    "Apply linear regression using the scikit-learn package."
   ]
  },
  {
   "cell_type": "code",
   "execution_count": 3,
   "metadata": {},
   "outputs": [],
   "source": [
    "# Apply a linear regression\n",
    "lin_reg = linregress(x= X,y = y)\n",
    "\n",
    "# Find slope\n",
    "slope =  lin_reg.slope\n",
    "\n",
    "# Find intercept\n",
    "intercept = lin_reg.intercept"
   ]
  },
  {
   "cell_type": "markdown",
   "metadata": {},
   "source": [
    "Using the simple regression, we found the slope of the best fit line is:1.86 and the intercept is : 6.38"
   ]
  },
  {
   "cell_type": "markdown",
   "metadata": {},
   "source": [
    "Now, we will plot the points using 2-D Scatter Plot."
   ]
  },
  {
   "cell_type": "code",
   "execution_count": 4,
   "metadata": {},
   "outputs": [
    {
     "data": {
      "image/png": "[encoded data removed]",
      "text/plain": [
       "<Figure size 432x288 with 1 Axes>"
      ]
     },
     "metadata": {
      "needs_background": "light"
     },
     "output_type": "display_data"
    }
   ],
   "source": [
    "# Plot X and Y using Scatter Plot\n",
    "plt.scatter(x= X, y= y)\n",
    "plt.show();"
   ]
  },
  {
   "cell_type": "markdown",
   "metadata": {},
   "source": [
    "We will also plot the best-fit line to see how it fitted with the date."
   ]
  },
  {
   "cell_type": "code",
   "execution_count": 5,
   "metadata": {},
   "outputs": [
    {
     "data": {
      "image/png": "[encoded data removed]",
      "text/plain": [
       "<Figure size 432x288 with 1 Axes>"
      ]
     },
     "metadata": {
      "needs_background": "light"
     },
     "output_type": "display_data"
    }
   ],
   "source": [
    "# Plot X and Y using Scatter Plot\n",
    "plt.scatter(x= X, y= y)\n",
    "plt.plot(X, X*slope +intercept, c= 'r')\n",
    "plt.legend(['Best-fit Line','Raw Data Point'])\n",
    "plt.show();"
   ]
  }
 ],
 "metadata": {
  "kernelspec": {
   "display_name": "Python 3",
   "language": "python",
   "name": "python3"
  },
  "language_info": {
   "codemirror_mode": {
    "name": "ipython",
    "version": 3
   },
   "file_extension": ".py",
   "mimetype": "text/x-python",
   "name": "python",
   "nbconvert_exporter": "python",
   "pygments_lexer": "ipython3",
   "version": "3.6.10"
  }
 },
 "nbformat": 4,
 "nbformat_minor": 4
}
